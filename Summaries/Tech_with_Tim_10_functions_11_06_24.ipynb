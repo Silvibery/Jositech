{
 "cells": [
  {
   "cell_type": "markdown",
   "id": "3fd27b0e-ae77-44ee-b62e-14458cd6b699",
   "metadata": {},
   "source": [
    "## #1 Print"
   ]
  },
  {
   "cell_type": "code",
   "execution_count": 6,
   "id": "e9cfecdb-a779-4d58-80e3-e7f6ca144bf8",
   "metadata": {},
   "outputs": [
    {
     "name": "stdout",
     "output_type": "stream",
     "text": [
      "Laska moja je Jožinko a má 33 rokov\n",
      "Laska moja je|Jožinko|a má|33|rokov\n",
      "Laska moja je,Jožinko,a má,33,rokov\n",
      "Laska moja je Jožinko a má 33 rokov :-* a máme to v jednom riadku, Jožinko\n"
     ]
    }
   ],
   "source": [
    "# môžme tlačiť zmes stringov a premenných, napr.:\n",
    "\n",
    "vek = 33\n",
    "meno = 'Jožinko'\n",
    "\n",
    "print('Laska moja je', meno, 'a má', vek, 'rokov')\n",
    "print('Laska moja je', meno, 'a má', vek, 'rokov', sep = '|') # výhodné, ak potrebujem určitý formát, nepotrebujem formátovať separé\n",
    "print('Laska moja je', meno, 'a má', vek, 'rokov', sep = ',')\n",
    "\n",
    "# print defaultne pridá na konci kódu \\n, tzn. new line\n",
    "# ak chcem printovať veci v jednom riadku môžem nastaviť rozličné zakončenie kódu takto:\n",
    "\n",
    "print('Laska moja je', meno, 'a má', vek, 'rokov', end = ' :-* ')\n",
    "print('a máme to v jednom riadku,', meno)"
   ]
  },
  {
   "cell_type": "markdown",
   "id": "d2b76ba0-11fc-46c8-a9c5-9b0dd2c14a01",
   "metadata": {},
   "source": [
    "## #2 Help"
   ]
  },
  {
   "cell_type": "code",
   "execution_count": 7,
   "id": "1d18b1c4-2b28-416f-bcaa-f855f2b0f263",
   "metadata": {},
   "outputs": [
    {
     "name": "stdout",
     "output_type": "stream",
     "text": [
      "Help on built-in function print in module builtins:\n",
      "\n",
      "print(*args, sep=' ', end='\\n', file=None, flush=False)\n",
      "    Prints the values to a stream, or to sys.stdout by default.\n",
      "    \n",
      "    sep\n",
      "      string inserted between values, default a space.\n",
      "    end\n",
      "      string appended after the last value, default a newline.\n",
      "    file\n",
      "      a file-like object (stream); defaults to the current sys.stdout.\n",
      "    flush\n",
      "      whether to forcibly flush the stream.\n",
      "\n"
     ]
    }
   ],
   "source": [
    "# rýchly prístup k dokumentácii danej funkcie\n",
    "\n",
    "help(print)\n",
    "\n",
    "'''\n",
    "funguje aj na vlastných funkciách a vypíše dokumentáciu, \n",
    "ktorá je definovaná pod názdvom funkcie troma úvodzovkami,\n",
    "ako v tomto prípade\n",
    "'''"
   ]
  },
  {
   "cell_type": "markdown",
   "id": "91ecaaef-9cbf-451f-becf-0f9015d42b4e",
   "metadata": {},
   "source": [
    "## #3 Range"
   ]
  },
  {
   "cell_type": "code",
   "execution_count": 11,
   "id": "77641662-bf57-4c93-9303-2ed7aea36e02",
   "metadata": {},
   "outputs": [
    {
     "name": "stdout",
     "output_type": "stream",
     "text": [
      "[0, 1, 2, 3, 4, 5, 6, 7, 8, 9]\n",
      "[2, 3, 4, 5, 6, 7, 8, 9]\n",
      "range(0, 10)\n",
      "[10, 8, 6, 4, 2, 0, -2, -4, -6, -8]\n",
      "[]\n"
     ]
    }
   ],
   "source": [
    "# range(start, stop, step)\n",
    "\n",
    "'''\n",
    "nezahŕňa posledné stop číslo, defaultne začína nulou\n",
    "\n",
    "'''\n",
    "\n",
    "rng = range(10)\n",
    "rng2 = range(2,10)\n",
    "\n",
    "print(list(rng))\n",
    "print(list(rng2))\n",
    "print(rng) #dostaneme range objekt, je sám o sebe iterátor, nie je list, treba použiť list function na získanie listu hodnôť\n",
    "\n",
    "# môže zahŕňať negatívne hodnoty\n",
    "\n",
    "rng3 = range(10, -10, -2)\n",
    "rng4 = range(10, -10)\n",
    "\n",
    "print(list(rng3))\n",
    "print(list(rng4))"
   ]
  },
  {
   "cell_type": "markdown",
   "id": "bfeb1a6d-b58a-4ba7-b24f-1608ccda6435",
   "metadata": {},
   "source": [
    "## #4 Map"
   ]
  },
  {
   "cell_type": "code",
   "execution_count": 9,
   "id": "ae877c34-a7b0-407e-8f17-a267d990e90c",
   "metadata": {},
   "outputs": [
    {
     "name": "stdout",
     "output_type": "stream",
     "text": [
      "[['bruno', 'bannani'], ['dedoles'], ['fusakle'], ['royal', 'bay']]\n",
      "['Bruno bannani', 'Dedoles', 'Fusakle', 'Royal bay']\n",
      "['bruno bannani <3 ', 'dedoles <3 ', 'fusakle <3 ', 'royal bay <3 ']\n"
     ]
    }
   ],
   "source": [
    "'''\n",
    "Umožňuje aplikovať funkciu na každú položku iterovateľného objektu.\n",
    "Za funkciou map do zátvorky patrí funkcia, ktorú chcem aplikovať na všetky položky objektu,\n",
    "následne za čiarku patrí iterovateľný objekt.\n",
    "\n",
    "'''\n",
    "\n",
    "ponožky = ['bruno bannani', 'dedoles', 'fusakle', 'royal bay']\n",
    "\n",
    "slova = map(str.split, ponožky) #pozor funkciu treba napisať bez zatvoriek\n",
    "velke_pismena = map(str.capitalize, ponožky)\n",
    "\n",
    "#lambda funkcia - jednoriadková anonymná funkcia...?\n",
    "\n",
    "lambdoid = map(lambda x: x + ' <3 ', ponožky)\n",
    "\n",
    "\n",
    "print(list(slova))\n",
    "print(list(velke_pismena))\n",
    "print(list(lambdoid))"
   ]
  },
  {
   "cell_type": "markdown",
   "id": "28af0c04-2640-449e-9fc5-52405c1953ba",
   "metadata": {},
   "source": [
    "## #5 Filter "
   ]
  },
  {
   "cell_type": "code",
   "execution_count": 12,
   "id": "54aec29b-fcb0-43ae-a78a-4595b3c7bf76",
   "metadata": {},
   "outputs": [
    {
     "name": "stdout",
     "output_type": "stream",
     "text": [
      "['bruno bannani', 'royal bay']\n",
      "['bruno bannani', 'royal bay']\n"
     ]
    }
   ],
   "source": [
    "'''\n",
    "Podobne ako map function, aplikuje sa na každú položku iterovateľného objektu.\n",
    "Zoberie funkciu v zátvorke, a ak je výsledok pre danú položku objektu True,\n",
    "tak ho ponechá, inak ho vyhodí.\n",
    "\n",
    "'''\n",
    "\n",
    "def longer_than_7(string):\n",
    "    return len(string) > 7\n",
    "\n",
    "ponožky = ['bruno bannani', 'dedoles', 'fusakle', 'royal bay']\n",
    "\n",
    "filtrovane = filter(longer_than_7, ponožky)\n",
    "\n",
    "#príklad s funkciou lambda:\n",
    "\n",
    "filtrovane2 = filter(lambda x: len(x) > 7, ponožky)\n",
    "\n",
    "print(list(filtrovane))\n",
    "print(list(filtrovane2))\n",
    "\n"
   ]
  },
  {
   "cell_type": "markdown",
   "id": "04ac402f-c288-4dc7-a533-9df5283d075b",
   "metadata": {},
   "source": [
    "## #6 Sum"
   ]
  },
  {
   "cell_type": "code",
   "execution_count": 14,
   "id": "3ffef42b-88b9-42c8-92f3-7933972169e3",
   "metadata": {},
   "outputs": [
    {
     "name": "stdout",
     "output_type": "stream",
     "text": [
      "294.5\n"
     ]
    }
   ],
   "source": [
    "'''\n",
    "Vracia sumu čísel, ktoré mu zadáš.\n",
    "Vstup musi byť int alebo float, inak hodi error.\n",
    "'''\n",
    "\n",
    "# priklad, keď zadám set obsahujúci integeri a floaty:\n",
    "\n",
    "kila = {93, 45, 69, 65, 72.5}\n",
    "\n",
    "print(sum(kila, start = -50)) #môžem zadať štartovaciu hodnotu od ktorej spočítava\n"
   ]
  },
  {
   "cell_type": "markdown",
   "id": "4e0f156f-7589-41cd-966a-57c88c492b6f",
   "metadata": {},
   "source": [
    "## #7 Sorted"
   ]
  },
  {
   "cell_type": "code",
   "execution_count": 19,
   "id": "5c4b372c-9c84-45f1-b1b2-cd0090fe4475",
   "metadata": {},
   "outputs": [
    {
     "name": "stdout",
     "output_type": "stream",
     "text": [
      "[45, 65, 69, 72.5, 93]\n",
      "[93, 72.5, 69, 65, 45]\n",
      "[{'name': 'David', 'age': 22, 'weight_kg': 68, 'height_m': 1.78, 'bmi': 21.5}, {'name': 'Alice', 'age': 28, 'weight_kg': 65, 'height_m': 1.7, 'bmi': 22.5}, {'name': 'Charlie', 'age': 40, 'weight_kg': 75, 'height_m': 1.75, 'bmi': 24.5}, {'name': 'Bob', 'age': 35, 'weight_kg': 85, 'height_m': 1.8, 'bmi': 26.2}]\n"
     ]
    }
   ],
   "source": [
    "'''\n",
    "Zoradí defaultne vzostupne, alebo zostupne ak reverse = True.\n",
    "\n",
    "'''\n",
    "\n",
    "kila_sorted = sorted(kila)\n",
    "kila_zostupne = sorted(kila, reverse = True)\n",
    "\n",
    "print(kila_sorted)\n",
    "\n",
    "print(kila_zostupne)\n",
    "\n",
    "#sorted na základe kľúča:\n",
    "\n",
    "persons_data = [\n",
    "    {\"name\": \"Alice\",\n",
    "    \"age\": 28,\n",
    "    \"weight_kg\": 65,\n",
    "    \"height_m\": 1.70,\n",
    "    \"bmi\": 22.5\n",
    "    },\n",
    "    {\"name\": \"Bob\",\n",
    "    \"age\": 35,\n",
    "    \"weight_kg\": 85,\n",
    "    \"height_m\": 1.80,\n",
    "    \"bmi\": 26.2\n",
    "    },\n",
    "    {\"name\": \"Charlie\",\n",
    "    \"age\": 40,\n",
    "    \"weight_kg\": 75,\n",
    "    \"height_m\": 1.75,\n",
    "    \"bmi\": 24.5\n",
    "    },\n",
    "    { \"name\": \"David\",\n",
    "    \"age\": 22,\n",
    "    \"weight_kg\": 68,\n",
    "    \"height_m\": 1.78,\n",
    "    \"bmi\": 21.5\n",
    "    }\n",
    "]\n",
    "\n",
    "BMI_sorted = sorted(persons_data, key = lambda person: person['bmi'])\n",
    "print(BMI_sorted)\n"
   ]
  },
  {
   "cell_type": "markdown",
   "id": "2ac57b63-c2db-45fc-80d2-2cb5a6ccbfd3",
   "metadata": {},
   "source": [
    "## #8 Enumerate"
   ]
  },
  {
   "cell_type": "code",
   "execution_count": 25,
   "id": "99c4a6e0-c1a8-4322-a62a-af03fca8be7f",
   "metadata": {},
   "outputs": [
    {
     "name": "stdout",
     "output_type": "stream",
     "text": [
      "1.osej múku\n",
      "2.naváž cukor\n",
      "3.prihoď vajcá\n",
      "4.mixni\n",
      "5.upeč\n",
      "0 ['osej múku', 'naváž cukor', 'prihoď vajcá', 'mixni', 'upeč']\n",
      "1 ['osej múku', 'naváž cukor', 'prihoď vajcá', 'mixni', 'upeč']\n",
      "2 ['osej múku', 'naváž cukor', 'prihoď vajcá', 'mixni', 'upeč']\n",
      "3 ['osej múku', 'naváž cukor', 'prihoď vajcá', 'mixni', 'upeč']\n",
      "4 ['osej múku', 'naváž cukor', 'prihoď vajcá', 'mixni', 'upeč']\n",
      "1.osej múku\n",
      "2.naváž cukor\n",
      "3.prihoď vajcá\n",
      "4.mixni\n",
      "5.upeč\n",
      "[(0, 'osej múku'), (1, 'naváž cukor'), (2, 'prihoď vajcá'), (3, 'mixni'), (4, 'upeč')]\n"
     ]
    }
   ],
   "source": [
    "'''\n",
    "Ak chcem mať prístup k indexu aj hodnote v jednom kroku.\n",
    "Vracia tuple pre každý jeden objekt, pričom prvá položka objektu je index\n",
    "a druhá hodnota.\n",
    "\n",
    "'''\n",
    "\n",
    "recept = ['osej múku','naváž cukor','prihoď vajcá', 'mixni','upeč']\n",
    "\n",
    "\n",
    "# príklad bez enumerate:\n",
    "\n",
    "for index in range(len(recept)):\n",
    "    postup = recept[index]\n",
    "    print(f'{index + 1}.{postup}') #nadstaví indexovanie od 1\n",
    "\n",
    "#príklad s enumerate:\n",
    "\n",
    "# môj nesprávny pokus použitia:\n",
    "for index, postup in enumerate(recept):\n",
    "    print(index, recept)\n",
    "\n",
    "for index, postup in enumerate(recept):\n",
    "    print(f'{index + 1}.{postup}') # nadstaví indexovanie od 1 a sprájuje hodnotu indexu s prislúchajúcou úlohou\n",
    "\n",
    "\n",
    "\n",
    "#enumerate je využiteľné aj mimo for cyklu:\n",
    "\n",
    "print(list(enumerate(recept))) # tuple, všimni si, bežne indexovanie začína 0\n",
    "    \n"
   ]
  },
  {
   "cell_type": "markdown",
   "id": "fdc2f2b7-20e8-46d5-b6b4-ed6977081849",
   "metadata": {},
   "source": [
    "## #9 Zip"
   ]
  },
  {
   "cell_type": "code",
   "execution_count": 39,
   "id": "24dc23a5-7dd7-43a2-8bf7-eae58bcf97c8",
   "metadata": {},
   "outputs": [
    {
     "name": "stdout",
     "output_type": "stream",
     "text": [
      "Jozko používa hodinky Coros a zabehne 10 km za 40 min.\n",
      "Silvia používa hodinky Coros a zabehne 10 km za 48 min.\n",
      "Miso používa hodinky Garmin a zabehne 10 km za 45 min.\n",
      "Emily používa hodinky Apple watch a zabehne 10 km za 63 min.\n",
      "Anton používa hodinky Sunto a zabehne 10 km za 44 min.\n",
      "[('Jozko', 'Coros', 40), ('Silvia', 'Coros', 48), ('Miso', 'Garmin', 45), ('Emily', 'Apple watch', 63), ('Anton', 'Sunto', 44)]\n",
      "Jozko používa hodinky Coros a zabehne 10 km za 40 min.\n",
      "Silvia používa hodinky Coros a zabehne 10 km za 48 min.\n",
      "Miso používa hodinky Garmin a zabehne 10 km za 45 min.\n",
      "Emily používa hodinky Apple watch a zabehne 10 km za 63 min.\n",
      "Anton používa hodinky Sunto a zabehne 10 km za 44 min.\n"
     ]
    }
   ],
   "source": [
    "'''\n",
    "Kombinuje rozličné iterovateľné objekty spolu\n",
    "a automaticky ošetrí situáciu keď má jeden interovateľný objekt\n",
    "viac položiek ako druhý.\n",
    "'''\n",
    "\n",
    "\n",
    "bezci = ['Jozko', 'Silvia', 'Miso', 'Emily', 'Anton']\n",
    "hodinky = ['Coros', 'Coros', 'Garmin', 'Apple watch', 'Sunto']\n",
    "desina_minuty = [40, 48, 45, 63, 44]\n",
    "\n",
    "\n",
    "\n",
    "# príklad bez zipu:\n",
    "\n",
    "# musím nájsť minimá dĺžok oboch listov aby som sa vyhla chybe 'index out of range'\n",
    "# v prípade, že listy majú rozličný počet položiek\n",
    "\n",
    "\n",
    "for idx in range(min(len(bezci), len(hodinky), len(desina_minuty))): \n",
    "    bezec = bezci[idx]\n",
    "    znacka = hodinky[idx]\n",
    "    desina = desina_minuty[idx]\n",
    "    print(f'{bezec} používa hodinky {znacka} a zabehne 10 km za {desina} min.')\n",
    "\n",
    "# príklad so zipom:\n",
    "\n",
    "spoj = list(zip(bezci, hodinky, desina_minuty)) #spojí do listu tuplov a umožní nám jednoducho iterovať skrz ne\n",
    "print(spoj)\n",
    "\n",
    "for bezec, znacka, desina in spoj:\n",
    "    print(f'{bezec} používa hodinky {znacka} a zabehne 10 km za {desina} min.')"
   ]
  },
  {
   "cell_type": "markdown",
   "id": "528e0dd6-39ea-40fd-b206-6b53d74ab03a",
   "metadata": {},
   "source": [
    "## #10 Open"
   ]
  },
  {
   "cell_type": "code",
   "execution_count": 42,
   "id": "dfd429d2-57d6-499e-bcef-cc42b9541130",
   "metadata": {},
   "outputs": [
    {
     "ename": "UnicodeEncodeError",
     "evalue": "'charmap' codec can't encode character '\\u010d' in position 11: character maps to <undefined>",
     "output_type": "error",
     "traceback": [
      "\u001b[1;31m---------------------------------------------------------------------------\u001b[0m",
      "\u001b[1;31mUnicodeEncodeError\u001b[0m                        Traceback (most recent call last)",
      "Cell \u001b[1;32mIn[42], line 11\u001b[0m\n\u001b[0;32m      1\u001b[0m \u001b[38;5;124;03m'''\u001b[39;00m\n\u001b[0;32m      2\u001b[0m \u001b[38;5;124;03mFunkciu open môžeme použiť na otvorenie súboru, prečítanie si ho, vypísanie z neho.\u001b[39;00m\n\u001b[0;32m      3\u001b[0m \u001b[38;5;124;03mModes:\u001b[39;00m\n\u001b[1;32m   (...)\u001b[0m\n\u001b[0;32m      7\u001b[0m \n\u001b[0;32m      8\u001b[0m \u001b[38;5;124;03m'''\u001b[39;00m\n\u001b[0;32m     10\u001b[0m file \u001b[38;5;241m=\u001b[39m \u001b[38;5;28mopen\u001b[39m(\u001b[38;5;124m'\u001b[39m\u001b[38;5;124mtest.txt\u001b[39m\u001b[38;5;124m'\u001b[39m, \u001b[38;5;124m'\u001b[39m\u001b[38;5;124mw\u001b[39m\u001b[38;5;124m'\u001b[39m) \u001b[38;5;66;03m#'w' je mód v akom otváram súbor, znamená, že idem do neho písať\u001b[39;00m\n\u001b[1;32m---> 11\u001b[0m file\u001b[38;5;241m.\u001b[39mwrite(\u001b[38;5;124m'\u001b[39m\u001b[38;5;124mNo neviem, či to v jupyteri spravím\u001b[39m\u001b[38;5;130;01m\\n\u001b[39;00m\u001b[38;5;124m'\u001b[39m)\n\u001b[0;32m     14\u001b[0m \u001b[38;5;66;03m#best practice, zabezpečí zavretie súboru, aj ak sa v kóde vyskytne chyba:\u001b[39;00m\n\u001b[0;32m     17\u001b[0m \u001b[38;5;28;01mwith\u001b[39;00m \u001b[38;5;28mopen\u001b[39m(\u001b[38;5;124m'\u001b[39m\u001b[38;5;124mtest.txt\u001b[39m\u001b[38;5;124m'\u001b[39m, \u001b[38;5;124m'\u001b[39m\u001b[38;5;124mw\u001b[39m\u001b[38;5;124m'\u001b[39m) \u001b[38;5;28;01mas\u001b[39;00m file:\n",
      "File \u001b[1;32mC:\\ProgramData\\anaconda3\\Lib\\encodings\\cp1252.py:19\u001b[0m, in \u001b[0;36mIncrementalEncoder.encode\u001b[1;34m(self, input, final)\u001b[0m\n\u001b[0;32m     18\u001b[0m \u001b[38;5;28;01mdef\u001b[39;00m \u001b[38;5;21mencode\u001b[39m(\u001b[38;5;28mself\u001b[39m, \u001b[38;5;28minput\u001b[39m, final\u001b[38;5;241m=\u001b[39m\u001b[38;5;28;01mFalse\u001b[39;00m):\n\u001b[1;32m---> 19\u001b[0m     \u001b[38;5;28;01mreturn\u001b[39;00m codecs\u001b[38;5;241m.\u001b[39mcharmap_encode(\u001b[38;5;28minput\u001b[39m,\u001b[38;5;28mself\u001b[39m\u001b[38;5;241m.\u001b[39merrors,encoding_table)[\u001b[38;5;241m0\u001b[39m]\n",
      "\u001b[1;31mUnicodeEncodeError\u001b[0m: 'charmap' codec can't encode character '\\u010d' in position 11: character maps to <undefined>"
     ]
    }
   ],
   "source": [
    "'''\n",
    "Funkciu open môžeme použiť na otvorenie súboru, prečítanie si ho, vypísanie z neho.\n",
    "Modes:\n",
    "r = read,\n",
    "w = write, prepíše súbor a ak už taký súbor existuje vymaže všetko vňom,\n",
    "a = append.\n",
    "\n",
    "'''\n",
    "\n",
    "file = open('test.txt', 'w') #'w' je mód v akom otváram súbor, znamená, že idem do neho písať\n",
    "file.write('No neviem, či to v jupyteri spravím\\n')\n",
    "\n",
    "\n",
    "#best practice je kód nižšie, zabezpečí správne zavretie súboru, aj ak sa v kóde vyskytne chyba:\n",
    "\n",
    "# write mode\n",
    "\n",
    "with open('test.txt', 'w') as file:\n",
    "    file.write('here') # automaticky zvládne zavretie súboru po vykonaní tejto úlohy\n",
    "                       # netreba manuálne otvárať a zatvárať súbor \n",
    "\n",
    "# read mode\n",
    "\n",
    "\n",
    "with open('test.txt', 'r') as file: # umožní nám čítať obsah súboru\n",
    "    text = file.read()\n",
    "    print(text)\n",
    "\n",
    "\n",
    "# append mode\n",
    "\n",
    "\n",
    "with open('test.txt', 'a') as file: # umožní nám čítať obsah súboru\n",
    "    file.write('tuto dačo pridám')\n",
    "    "
   ]
  }
 ],
 "metadata": {
  "kernelspec": {
   "display_name": "Python 3 (ipykernel)",
   "language": "python",
   "name": "python3"
  },
  "language_info": {
   "codemirror_mode": {
    "name": "ipython",
    "version": 3
   },
   "file_extension": ".py",
   "mimetype": "text/x-python",
   "name": "python",
   "nbconvert_exporter": "python",
   "pygments_lexer": "ipython3",
   "version": "3.11.7"
  }
 },
 "nbformat": 4,
 "nbformat_minor": 5
}
