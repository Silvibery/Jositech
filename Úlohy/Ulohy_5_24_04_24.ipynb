{
 "cells": [
  {
   "cell_type": "code",
   "execution_count": 2,
   "id": "66a22819-6703-4dcb-a567-934368ce5604",
   "metadata": {},
   "outputs": [],
   "source": [
    "jazyky = ['Java', 'Python', 'Go']\n",
    "dna_sekvencia = 'ATCGATCGATCGACTCGATCAGATCGATCTTGTCGGACTACAAG'"
   ]
  },
  {
   "cell_type": "markdown",
   "id": "81f35ab4-5109-4c7f-8782-ed08a967e3fe",
   "metadata": {},
   "source": [
    "1. Vypíš pomocou for loop prvky objektu jazyky"
   ]
  },
  {
   "cell_type": "code",
   "execution_count": 3,
   "id": "65a925d2-fcf3-4261-b9e6-c2a0fe9e5cf0",
   "metadata": {},
   "outputs": [
    {
     "name": "stdout",
     "output_type": "stream",
     "text": [
      "Java\n",
      "Python\n",
      "Go\n"
     ]
    }
   ],
   "source": [
    "for prvok in jazyky:\n",
    "    print(prvok)"
   ]
  },
  {
   "cell_type": "markdown",
   "id": "30f63a10-86ba-4644-ad44-bea2f51656a0",
   "metadata": {},
   "source": [
    "2. Pomocou for cyklu spočitaj všetky parne čisla do 100\n",
    "• iteruj cez čisla od 0-100 a v cykle samotnom zisti či je čislo je parne\n",
    "alebo neparne\n",
    "• iteruj len cez parne čisla ktore si vygenerujš cez range()\n"
   ]
  },
  {
   "cell_type": "code",
   "execution_count": 13,
   "id": "71d156d9-b92c-4d54-bef0-cb63b11aed23",
   "metadata": {},
   "outputs": [
    {
     "name": "stdout",
     "output_type": "stream",
     "text": [
      "2450\n"
     ]
    }
   ],
   "source": [
    "suma_parnych = 0\n",
    "\n",
    "for cislo in range(100):\n",
    "    if cislo % 2 == 0:\n",
    "        suma_parnych += cislo\n",
    "    \n",
    "print(suma_parnych)\n",
    "        "
   ]
  },
  {
   "cell_type": "code",
   "execution_count": 14,
   "id": "0a92ec8f-bba9-4e89-a39e-bc84d392fbdb",
   "metadata": {},
   "outputs": [
    {
     "name": "stdout",
     "output_type": "stream",
     "text": [
      "2450\n"
     ]
    }
   ],
   "source": [
    "suma_parnych = 0\n",
    "\n",
    "for cislo in range(0, 100, 2): #iterovanie iba cez parne cisla\n",
    "    if cislo % 2 == 0:\n",
    "        suma_parnych += cislo\n",
    "    \n",
    "print(suma_parnych)"
   ]
  },
  {
   "cell_type": "markdown",
   "id": "63d88f9a-056e-4da0-a0ec-63fc97628682",
   "metadata": {},
   "source": [
    "3. Pomocou for cyklu zisti počet Baz v DNA sekvenci objekt dna_sekvencia"
   ]
  },
  {
   "cell_type": "code",
   "execution_count": 16,
   "id": "5a2186be-f6b2-481f-8449-49d83022c200",
   "metadata": {},
   "outputs": [
    {
     "name": "stdout",
     "output_type": "stream",
     "text": [
      "44\n"
     ]
    }
   ],
   "source": [
    "pocet_baz = 0\n",
    "\n",
    "for base in dna_sekvencia:\n",
    "    pocet_baz += 1\n",
    "\n",
    "print(pocet_baz)\n",
    "    "
   ]
  }
 ],
 "metadata": {
  "kernelspec": {
   "display_name": "Python 3 (ipykernel)",
   "language": "python",
   "name": "python3"
  },
  "language_info": {
   "codemirror_mode": {
    "name": "ipython",
    "version": 3
   },
   "file_extension": ".py",
   "mimetype": "text/x-python",
   "name": "python",
   "nbconvert_exporter": "python",
   "pygments_lexer": "ipython3",
   "version": "3.11.7"
  }
 },
 "nbformat": 4,
 "nbformat_minor": 5
}
