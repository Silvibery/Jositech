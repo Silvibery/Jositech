{
 "cells": [
  {
   "cell_type": "markdown",
   "id": "a96a51af-d8fc-4ac9-8e08-3d58eb8611b0",
   "metadata": {},
   "source": [
    "## Úloha 1\r"
   ]
  },
  {
   "cell_type": "code",
   "execution_count": 1,
   "id": "8ec06a8d-3f5a-47ca-8e9d-aa1e7e3daa08",
   "metadata": {},
   "outputs": [
    {
     "name": "stdout",
     "output_type": "stream",
     "text": [
      "14.153036723776381\n"
     ]
    }
   ],
   "source": [
    "import math #potrebne pre funkciu math.log\n",
    "x = 14 + (1/2)**math.log(15)\n",
    "print(x)"
   ]
  },
  {
   "cell_type": "markdown",
   "id": "de2a8792-5c7a-4672-9839-dfbd11996050",
   "metadata": {},
   "source": [
    "X sa rovná 14.153036723776381."
   ]
  },
  {
   "cell_type": "markdown",
   "id": "5a2bca7f-1422-4627-bc11-a01f5a9c1f00",
   "metadata": {},
   "source": [
    "## Úloha 2"
   ]
  },
  {
   "cell_type": "code",
   "execution_count": 3,
   "id": "2310c185-93b1-4e05-94d7-b0ab4560c64c",
   "metadata": {},
   "outputs": [
    {
     "name": "stdout",
     "output_type": "stream",
     "text": [
      "1.0471975511965976\n",
      "0.5000000000000001\n"
     ]
    }
   ],
   "source": [
    "n = 1/3 * math.pi\n",
    "print(n)\n",
    "y = math.cos(n)\n",
    "print(y)"
   ]
  },
  {
   "cell_type": "markdown",
   "id": "873523c6-4aaa-4009-9ef7-b220c029204f",
   "metadata": {},
   "source": [
    "Y sa rovná 0.5000000000000001."
   ]
  },
  {
   "cell_type": "markdown",
   "id": "9423c4e7-3314-40e0-9193-ec32c7f07cd2",
   "metadata": {},
   "source": [
    "## Úloha 3"
   ]
  },
  {
   "cell_type": "code",
   "execution_count": 4,
   "id": "32f8b418-03fd-4d31-a5a0-127ba6651645",
   "metadata": {},
   "outputs": [
    {
     "name": "stdout",
     "output_type": "stream",
     "text": [
      "0.500000433432915\n"
     ]
    }
   ],
   "source": [
    "z = 1 - n**2/math.factorial(2) + n**4/math.factorial(4) - n**6/math.factorial(6) + n**8/math.factorial(8)\n",
    "print(z)"
   ]
  },
  {
   "cell_type": "markdown",
   "id": "2644a678-9228-4b1d-93df-b503ba252906",
   "metadata": {},
   "source": [
    "Z sa rovná 0.500000433432915."
   ]
  },
  {
   "cell_type": "markdown",
   "id": "bf0adfe0-7a6c-447c-b6f5-5e0894869676",
   "metadata": {},
   "source": [
    "## Úloha 4\n",
    "Vypočitaj absolutnu hodnotu rozdielu |z − y| a výsledok zaukrúhli na 3 \n",
    "desatinné miest.1\r"
   ]
  },
  {
   "cell_type": "code",
   "execution_count": 5,
   "id": "d7be31ea-557f-4b73-962f-9cfcdc9c6bab",
   "metadata": {},
   "outputs": [
    {
     "name": "stdout",
     "output_type": "stream",
     "text": [
      "4.3343291489250646e-07\n",
      "0.0\n"
     ]
    }
   ],
   "source": [
    "a = abs(z - y) #abs nie je súčasťou packagu math\n",
    "print(a)\n",
    "print(round(a,3)) #round(zaokrúhľované číslo/premenná, počet desatinných miest)"
   ]
  },
  {
   "cell_type": "markdown",
   "id": "8ff3fc34-1eeb-4888-93c1-af63781bdd08",
   "metadata": {},
   "source": [
    "## Úloha 5 \n",
    "Vypočitaj zvyšok po delení 5/2, ,\r",
    "/22\r\n",
    "7"
   ]
  },
  {
   "cell_type": "code",
   "execution_count": 6,
   "id": "bb5c6120-9cd3-4348-8206-79715eaabdd8",
   "metadata": {},
   "outputs": [
    {
     "name": "stdout",
     "output_type": "stream",
     "text": [
      "Zvyšok po delení: 1 , 1\n"
     ]
    }
   ],
   "source": [
    "print ('Zvyšok po delení:',5%2,',', 22%7)"
   ]
  },
  {
   "cell_type": "markdown",
   "id": "3b98c1d1-be7a-4a9b-9975-4422ffde9254",
   "metadata": {},
   "source": [
    "## Úloha 6\n",
    ". Otestuj nasledujúce:\r\n",
    "a = 15\r\n",
    "b = 15\r\n",
    "a = a + 15\r\n",
    "b +=15\r\n",
    "čo vykonal symbol += ? Ide o tzv. \"assignment operator\" vid napr.\r\n",
    "https://www.programiz.com/python-programming/operators časť 2\r\n",
    "napíš ekvivalenty k nasledujúceim príkladom :\r\n",
    "a = a−5\r\n",
    "a = a∗5\r\n",
    "a = a ∗∗5"
   ]
  },
  {
   "cell_type": "code",
   "execution_count": 7,
   "id": "41b1288c-276e-4a7e-ac3a-b4a81bcc998b",
   "metadata": {},
   "outputs": [
    {
     "name": "stdout",
     "output_type": "stream",
     "text": [
      "30 30\n",
      "25\n",
      "125\n",
      "30517578125\n"
     ]
    }
   ],
   "source": [
    "a = 15\n",
    "b = 15\n",
    "a = a + 15\n",
    "b += 15 # znak '+=' pripočíta hodnotu, a zároveň priradí túto novú hodnotu premennej v jednom kroku\n",
    "print(a, b)\n",
    "\n",
    "#zjednodušené varianty uvedených príkladov:\n",
    "a -= 5\n",
    "print(a)\n",
    "a *= 5\n",
    "print(a)\n",
    "a**= 5\n",
    "print(a)"
   ]
  },
  {
   "cell_type": "markdown",
   "id": "869b94ee-1707-47a5-b259-543f16b2e7f5",
   "metadata": {},
   "source": [
    "## Úloha 7\n",
    "7. Otestuj funkciou type() na premenje x a y ak x = 15 a y = 15.0"
   ]
  },
  {
   "cell_type": "code",
   "execution_count": 4,
   "id": "c73d8e3a-6298-44b6-8f82-29179832a864",
   "metadata": {},
   "outputs": [
    {
     "name": "stdout",
     "output_type": "stream",
     "text": [
      "<class 'int'>\n",
      "<class 'float'>\n"
     ]
    }
   ],
   "source": [
    "x = 15\n",
    "y = 15.0\n",
    "print(type(x))\n",
    "print(type(y))"
   ]
  },
  {
   "cell_type": "markdown",
   "id": "7bb64a27-7be0-4b6c-8f02-cfcceb9aac52",
   "metadata": {},
   "source": [
    "## Úloha 8\n",
    "8. Nasledujúce čísla deklaruj pomocou scientific notation2\r\n",
    "x = 1587.1015 (4)\r\n",
    "x = 859762.56 = 8.5976256.105\r"
   ]
  },
  {
   "cell_type": "code",
   "execution_count": 8,
   "id": "7ae5bfbf-e1b7-45ab-ae2e-7e81a2a660f9",
   "metadata": {},
   "outputs": [
    {
     "name": "stdout",
     "output_type": "stream",
     "text": [
      "1.5871014e+17\n",
      "859762.56\n"
     ]
    }
   ],
   "source": [
    "x = 1.5871014e17 #scientific notation formát: číslo v skrátenej podobe + znak 'e' + rád (order of magnitude)\n",
    "print(x)\n",
    "x = 8.5976256e5\n",
    "print(x)"
   ]
  },
  {
   "cell_type": "markdown",
   "id": "31beee9b-686e-46b1-bb14-398f1a49e299",
   "metadata": {},
   "source": [
    "## Úloha 9\n",
    "Importuj z knižnice numpy funkciu na generovanie náhodného čísla a\r\n",
    "implementuj ju. čo je to seed ?\r\n",
    "3\r"
   ]
  },
  {
   "cell_type": "code",
   "execution_count": 8,
   "id": "c051dbc6-e43e-4cd5-b297-8f573e38206b",
   "metadata": {},
   "outputs": [
    {
     "name": "stdout",
     "output_type": "stream",
     "text": [
      "73\n"
     ]
    }
   ],
   "source": [
    "from numpy import random\n",
    "j = random.randint(100)\n",
    "print(j)"
   ]
  },
  {
   "cell_type": "markdown",
   "id": "f5e8d010-ee5a-4ba7-b7c0-601f3102901c",
   "metadata": {},
   "source": [
    "Seed je input pre generovanie pseudorandom čísel. Seed robí random generátor predikovateľným."
   ]
  },
  {
   "cell_type": "markdown",
   "id": "a2f2dae4-5673-4816-89ff-f99ce4747d6c",
   "metadata": {},
   "source": [
    "## Úloha 10\n",
    "Je možné aby integer v pythnone pretiekol ?\n",
    "-áno"
   ]
  }
 ],
 "metadata": {
  "kernelspec": {
   "display_name": "Python 3 (ipykernel)",
   "language": "python",
   "name": "python3"
  },
  "language_info": {
   "codemirror_mode": {
    "name": "ipython",
    "version": 3
   },
   "file_extension": ".py",
   "mimetype": "text/x-python",
   "name": "python",
   "nbconvert_exporter": "python",
   "pygments_lexer": "ipython3",
   "version": "3.11.7"
  }
 },
 "nbformat": 4,
 "nbformat_minor": 5
}
