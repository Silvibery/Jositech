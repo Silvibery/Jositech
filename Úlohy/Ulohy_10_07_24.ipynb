{
 "cells": [
  {
   "cell_type": "markdown",
   "id": "7afbcf18-8b97-4766-ad5a-c437d112c630",
   "metadata": {},
   "source": [
    "## #1\n",
    "Oprav kod aby fungoval podla uvedenej logiky je tam jedna chyba\r\n",
    "(b) modifikuj opraveny kod aby obsahoval jednu vrstvo kontroly. Ked\r\n",
    "uživatel zada číslo iné ako 1-9 tak mu napíše že zadal zle číslo a tento\r\n",
    "pokus nebude počítať co celkového súčtu typov\r"
   ]
  },
  {
   "cell_type": "code",
   "execution_count": 5,
   "id": "1d27e0a1-33f6-450b-a5d5-4b4627353850",
   "metadata": {},
   "outputs": [
    {
     "name": "stdin",
     "output_type": "stream",
     "text": [
      "Guess a number between 1 and 9:  0\n"
     ]
    },
    {
     "name": "stdout",
     "output_type": "stream",
     "text": [
      "Zadal si zlé číslo, tento pokus sa neráta\n"
     ]
    },
    {
     "name": "stdin",
     "output_type": "stream",
     "text": [
      "Guess a number between 1 and 9:  13\n"
     ]
    },
    {
     "name": "stdout",
     "output_type": "stream",
     "text": [
      "Zadal si zlé číslo, tento pokus sa neráta\n"
     ]
    },
    {
     "name": "stdin",
     "output_type": "stream",
     "text": [
      "Guess a number between 1 and 9:  8\n",
      "Guess a number between 1 and 9:  3\n",
      "Guess a number between 1 and 9:  1\n",
      "Guess a number between 1 and 9:  2\n",
      "Guess a number between 1 and 9:  4\n",
      "Guess a number between 1 and 9:  5\n",
      "Guess a number between 1 and 9:  6\n"
     ]
    },
    {
     "name": "stdout",
     "output_type": "stream",
     "text": [
      "Potreboval si 7 pokusov aby uhádol číslo 6\n"
     ]
    }
   ],
   "source": [
    "import random\n",
    "\n",
    "cislo = random.randint(1, 9)\n",
    "pocet_odhadov = 0\n",
    "while True:\n",
    "    odhad = int(input(\"Guess a number between 1 and 9: \"))\n",
    "    if odhad < 1 or odhad > 9:\n",
    "        print('Zadal si zlé číslo, tento pokus sa neráta')\n",
    "    else:\n",
    "        pocet_odhadov += 1\n",
    "    if odhad == cislo: #tu bola chyba, treba dvojite rovna sa\n",
    "        break\n",
    "print(f\"Potreboval si {pocet_odhadov} pokusov, aby si uhádol číslo {cislo}\")\n"
   ]
  },
  {
   "cell_type": "markdown",
   "id": "88c30bac-9e9a-400e-92af-4423c098304a",
   "metadata": {},
   "source": [
    "## #2\n",
    "2. Nájdi a oprav chybu v nasledujúcom kode"
   ]
  },
  {
   "cell_type": "code",
   "execution_count": 10,
   "id": "2565144a-e0b6-49da-9abb-d943aa3041be",
   "metadata": {},
   "outputs": [
    {
     "name": "stdout",
     "output_type": "stream",
     "text": [
      "1\n",
      "2\n",
      "3\n",
      "4\n",
      "5\n",
      "6\n",
      "7\n",
      "8\n",
      "9\n"
     ]
    }
   ],
   "source": [
    "# pôvodný kód:\n",
    "# for X in range[1,10]\n",
    "#     print(x)\n",
    "\n",
    "\n",
    "#opravený kód\n",
    "for x in range(1,10):\n",
    "    print(x)\n"
   ]
  },
  {
   "cell_type": "markdown",
   "id": "a6cc11f2-e5b3-42ad-890e-cd683d149c5a",
   "metadata": {},
   "source": [
    "## #3\n",
    "Nájdi a oprav chyby v nasledujúcom kode. Komentáre hovoria čo sa má\r\n",
    "diať. Následne uprav kod tak aby priemer (mu) a sigma boli vstupné\r\n",
    "hodnoty funkcie. Definuj im aj defualtne parametre. Čo sa stane ak\r\n",
    "funkcia .normal bude mat treti vstupny argument iny ako 1 ?\r"
   ]
  },
  {
   "cell_type": "code",
   "execution_count": 22,
   "id": "9d8d19ec-b603-4c1e-bf17-60abb354f29e",
   "metadata": {},
   "outputs": [
    {
     "name": "stdout",
     "output_type": "stream",
     "text": [
      "[0.1007332]\n"
     ]
    }
   ],
   "source": [
    "import numpy as np\n",
    "\n",
    "def sucet_cisel(a=5,b=5):\n",
    "    return a+b\n",
    "\n",
    "def matematicka_operacia(mu = 0, sigma = 0.1):\n",
    "    \n",
    "    cislo1 = np.random.normal(mu, sigma, 1) # rand. cislo podla norm. rozdelenia\n",
    "    cislo2 = np.random.normal(mu, sigma, 1) # rand. cislo podla norm. rozdelenia\n",
    "    \n",
    "    #tu som vymazala vysledok = 0, netreba preddefinovat\n",
    "\n",
    "# ak cislo1 je vacsie ako cislo 2 vysledok bude 10\n",
    "# ak nie bude vyledok sucet tychto svoch cisel\n",
    "    if cislo1 <= cislo2:\n",
    "        vysledok = sucet_cisel()\n",
    "    else:\n",
    "        vysledok = sucet_cisel(cislo1,cislo2)\n",
    "\n",
    "    return vysledok\n",
    "\n",
    "print(matematicka_operacia())\n"
   ]
  }
 ],
 "metadata": {
  "kernelspec": {
   "display_name": "Python 3 (ipykernel)",
   "language": "python",
   "name": "python3"
  },
  "language_info": {
   "codemirror_mode": {
    "name": "ipython",
    "version": 3
   },
   "file_extension": ".py",
   "mimetype": "text/x-python",
   "name": "python",
   "nbconvert_exporter": "python",
   "pygments_lexer": "ipython3",
   "version": "3.11.7"
  }
 },
 "nbformat": 4,
 "nbformat_minor": 5
}
