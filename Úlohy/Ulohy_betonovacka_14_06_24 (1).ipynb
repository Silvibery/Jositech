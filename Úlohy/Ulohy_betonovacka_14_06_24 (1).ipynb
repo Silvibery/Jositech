{
 "cells": [
  {
   "cell_type": "markdown",
   "id": "6b0f9e84-8d28-408b-91f5-9da86fa531d2",
   "metadata": {},
   "source": [
    "## #1 Tech with Tim video \n",
    "\n",
    "má samostatný súbor.\n",
    "\n",
    "## #2 filter\n",
    "Napíš funkciu, ktorý vypíše všetky párne čísla ktore neobsahuju číslicu 2\r\n",
    "od 1 do 100"
   ]
  },
  {
   "cell_type": "code",
   "execution_count": 18,
   "id": "30fde3ee-3dcc-45c0-a4c4-4fb23659b336",
   "metadata": {},
   "outputs": [
    {
     "data": {
      "text/plain": [
       "[4,\n",
       " 6,\n",
       " 8,\n",
       " 10,\n",
       " 14,\n",
       " 16,\n",
       " 18,\n",
       " 30,\n",
       " 34,\n",
       " 36,\n",
       " 38,\n",
       " 40,\n",
       " 44,\n",
       " 46,\n",
       " 48,\n",
       " 50,\n",
       " 54,\n",
       " 56,\n",
       " 58,\n",
       " 60,\n",
       " 64,\n",
       " 66,\n",
       " 68,\n",
       " 70,\n",
       " 74,\n",
       " 76,\n",
       " 78,\n",
       " 80,\n",
       " 84,\n",
       " 86,\n",
       " 88,\n",
       " 90,\n",
       " 94,\n",
       " 96,\n",
       " 98,\n",
       " 100]"
      ]
     },
     "execution_count": 18,
     "metadata": {},
     "output_type": "execute_result"
    }
   ],
   "source": [
    "def neobsahuje_2(cislo):\n",
    "    if '2' in str(cislo):\n",
    "        return False\n",
    "    else:\n",
    "        return True\n",
    "\n",
    "\n",
    "def parne_mimo_2():\n",
    "\n",
    "    zoznam = []\n",
    "    \n",
    "    for cifra in range(1,101):\n",
    "        if cifra % 2 == 0 and neobsahuje_2(cifra):\n",
    "            zoznam.append(cifra)\n",
    "\n",
    "    return zoznam\n",
    "\n",
    "parne_mimo_2()\n",
    "        "
   ]
  },
  {
   "cell_type": "markdown",
   "id": "8ba0742d-ddda-4a5d-a1f6-ecd90ef74f0c",
   "metadata": {},
   "source": [
    "## #3 medzery\n",
    "3. Napíš funkciu, ktorý v reťazci nahradí všetky medzery uživateľom zadaným\r\n",
    "znakom napríklad podtržník."
   ]
  },
  {
   "cell_type": "code",
   "execution_count": 26,
   "id": "8e4235b4-bd3c-43b1-881f-043fac8d71ec",
   "metadata": {},
   "outputs": [
    {
     "name": "stdout",
     "output_type": "stream",
     "text": [
      "Zadaj ľubovoľný znak:\n"
     ]
    },
    {
     "name": "stdin",
     "output_type": "stream",
     "text": [
      " _\n"
     ]
    },
    {
     "data": {
      "text/plain": [
       "\"Zucchero_Fornaciari,_pseudonimo_di_Adelmo_Fornaciari_(Reggio_Emilia,_25_settembre_1955),_\\n____________è_un_cantautore_e_musicista_italiano.Annoverato_fra_i_principali_esponenti_del_blues_in_Italia,_\\n____________nell'arco_di_oltre_quarant'anni_di_carriera_ha_riscosso_un_ragguardevole_successo_commerciale,\\n____________vendendo_più_di_60_milioni_di_dischi_tra_album_e_singoli\""
      ]
     },
     "execution_count": 26,
     "metadata": {},
     "output_type": "execute_result"
    }
   ],
   "source": [
    "zucchero = '''Zucchero Fornaciari, pseudonimo di Adelmo Fornaciari (Reggio Emilia, 25 settembre 1955), \n",
    "            è un cantautore e musicista italiano.Annoverato fra i principali esponenti del blues in Italia, \n",
    "            nell'arco di oltre quarant'anni di carriera ha riscosso un ragguardevole successo commerciale,\n",
    "            vendendo più di 60 milioni di dischi tra album e singoli'''\n",
    "\n",
    "def medzery_switch(string):\n",
    "\n",
    "    print('Zadaj ľubovoľný znak:')\n",
    "    znak = input()\n",
    "\n",
    "    new_string = string.replace(' ', znak)\n",
    "\n",
    "    return new_string\n",
    "\n",
    "medzery_switch(zucchero)"
   ]
  },
  {
   "cell_type": "markdown",
   "id": "812f6af4-25da-4607-91c8-bf7ff60975b7",
   "metadata": {},
   "source": [
    "## #4 palindróm \n",
    "4. Napíš funkciu, ktorá zistí, či je zadaný reťazec palindróm."
   ]
  },
  {
   "cell_type": "code",
   "execution_count": 9,
   "id": "9a482783-f936-4c2a-8c55-d18394af1126",
   "metadata": {},
   "outputs": [
    {
     "data": {
      "text/plain": [
       "'Je palindróm'"
      ]
     },
     "execution_count": 9,
     "metadata": {},
     "output_type": "execute_result"
    }
   ],
   "source": [
    "def palindrom(x):\n",
    "    '''\n",
    "    skontroluje, či sa prvý a posledný znak v stringu zhodujú,\n",
    "    následne skontroluje druhý a predposledný znak atď.\n",
    "\n",
    "    vstup = string\n",
    "    výstup = print statement\n",
    "\n",
    "    '''\n",
    "    \n",
    "\n",
    "    index = 0\n",
    "\n",
    "    if x[index] == x[-index-1]: \n",
    "        vysledok = 'Je palindróm'\n",
    "        index += 1\n",
    "    else: vysledok = 'Nie je palindróm'\n",
    "\n",
    "    return vysledok\n",
    "  \n",
    "        \n",
    "        \n",
    "palindrom('kayak')\n",
    "    \n",
    "\n",
    "    \n"
   ]
  },
  {
   "cell_type": "markdown",
   "id": "fb74e99a-5e95-42b9-a386-a584cca7aeab",
   "metadata": {},
   "source": [
    "## #5 tuple\n",
    "5. Máš daný tuple tup1 = (10, 20, 30, 40) , každy jeh prvok vlož do\r\n",
    "samostatnej premennej.k) bodov;"
   ]
  },
  {
   "cell_type": "code",
   "execution_count": 10,
   "id": "7c8db9d1-0235-4f32-9c8d-b8e942803ec6",
   "metadata": {},
   "outputs": [
    {
     "name": "stdout",
     "output_type": "stream",
     "text": [
      "10\n",
      "20\n",
      "30\n",
      "40\n"
     ]
    }
   ],
   "source": [
    "tup1 = (10, 20, 30, 40)\n",
    "\n",
    "a, b, c, d = tup1\n",
    "\n",
    "print(a)\n",
    "print(b)\n",
    "print(c)\n",
    "print(d)"
   ]
  },
  {
   "cell_type": "markdown",
   "id": "d440ac5d-818f-4c12-9b48-59f4b7706169",
   "metadata": {},
   "source": [
    "## #6 konverter\n",
    "6. Napíš funkcie, ktoré konvertujú teplotu zo stupňov Celzia na Fahrenheit\n",
    "a naopak ."
   ]
  },
  {
   "cell_type": "code",
   "execution_count": 13,
   "id": "5c9eb338-60c0-4551-bee8-af6609b85edf",
   "metadata": {},
   "outputs": [
    {
     "name": "stdout",
     "output_type": "stream",
     "text": [
      "Zadaj teplotu v °C:\n"
     ]
    },
    {
     "name": "stdin",
     "output_type": "stream",
     "text": [
      " 25\n"
     ]
    },
    {
     "name": "stdout",
     "output_type": "stream",
     "text": [
      "77.0 °F\n",
      "Zadaj teplotu v °F:\n"
     ]
    },
    {
     "name": "stdin",
     "output_type": "stream",
     "text": [
      " 180\n"
     ]
    },
    {
     "name": "stdout",
     "output_type": "stream",
     "text": [
      "82.22222222222223 °C\n"
     ]
    }
   ],
   "source": [
    "#°C = (°F - 32) * 5/9\n",
    "#°F = (°C * 9/5) + 32\n",
    "\n",
    "def C_to_F_convert():\n",
    "    \n",
    "    print('Zadaj teplotu v °C:')\n",
    "    degrees = int(input())\n",
    "    \n",
    "    fahrnheit = (degrees * 9 / 5) + 32 \n",
    "    \n",
    "\n",
    "    return print(fahrnheit, '°F') \n",
    "\n",
    "C_to_F_convert()\n",
    "\n",
    "def F_to_C_convert():\n",
    "    \n",
    "    print('Zadaj teplotu v °F:')\n",
    "    degrees = int(input())\n",
    "    \n",
    "    celsius = (degrees -32) * 5 / 9 \n",
    "    \n",
    "\n",
    "    return print(celsius, '°C') \n",
    "\n",
    "F_to_C_convert()\n",
    "    "
   ]
  },
  {
   "cell_type": "markdown",
   "id": "e1af3ada-575a-499e-bfdf-a0915a5e21c0",
   "metadata": {},
   "source": [
    "## #7 klasifikácia\n",
    "7. Napíš funkciu, ktorý zistí klasifikáciu študijného výsledku na základe získaných\n",
    "bodov.\n",
    "Klasifikačná stupnica: A – výborne <92 – 100> bodov; B – veľmi\n",
    "dobre <83 – 92) bodov; C – dobre <74 – 83) bodov; D – uspokojivo <65\n",
    "– 74) bodov;"
   ]
  },
  {
   "cell_type": "code",
   "execution_count": 19,
   "id": "7ad4228b-f178-4850-8f19-adafed685a5e",
   "metadata": {},
   "outputs": [
    {
     "name": "stdout",
     "output_type": "stream",
     "text": [
      "Zadaj počet bodov:\n"
     ]
    },
    {
     "name": "stdin",
     "output_type": "stream",
     "text": [
      " 82\n"
     ]
    },
    {
     "name": "stdout",
     "output_type": "stream",
     "text": [
      "C\n"
     ]
    }
   ],
   "source": [
    "def klasifikacia():\n",
    "\n",
    "    print('Zadaj počet bodov:')\n",
    "    body = int(input())\n",
    "\n",
    "    if body > 100: print('Klasifikácia mimo rozsah.')\n",
    "    \n",
    "    if body < 100 and body > 91: print('A')\n",
    "    if body < 92 and body > 82: print('B')\n",
    "    if body < 83 and body > 73: print('C')\n",
    "    if body < 74 and body > 64: print('D')\n",
    "    if body < 65 and body > 49: print('E')\n",
    "    if body < 50: print('FX')\n",
    "\n",
    "\n",
    "klasifikacia()"
   ]
  },
  {
   "cell_type": "markdown",
   "id": "1950288e-4d52-4fe1-87ef-37d55a2d6ca4",
   "metadata": {},
   "source": [
    "## #8 šifra\n",
    "\n",
    "Zopakuj si šionsku úlohu."
   ]
  },
  {
   "cell_type": "code",
   "execution_count": null,
   "id": "51f3cf05-e530-4f44-a9fc-1296dee1a724",
   "metadata": {},
   "outputs": [],
   "source": [
    "# Baconova šifra\n",
    "\n",
    "sprava = 'aaaaa aabbb abbab abaaa abaaa abbab babbb abaaa abbaa abaab abbab baaba abbab aaaba baabb ababb abaaa baaab aaaba abbab'\n",
    "\n",
    "def Bacon_cipher(sprava):\n",
    "\n",
    "sifra = {\n",
    "    A:aaaaa,\n",
    "    B:aaaab,\t\n",
    "    C:aaaba,\t\n",
    "    D:aaabb,\t\n",
    "    E:aabaa,\t\n",
    "    F:aabab,\t\n",
    "    G:aabba,\t\n",
    "    H:aabbb,\t\n",
    "    I, J:abaaa,\n",
    "    K:abaab,\t\n",
    "    L:ababa,\t\n",
    "    M:ababb,\t\n",
    "    N:abbaa,\t\n",
    "    O:abbab,\t\n",
    "    P:abbba,\t\n",
    "    Q:abbbb,\t\n",
    "    R:baaaa,\t\n",
    "    S:baaab,\t\n",
    "    T:baaba,\t\n",
    "    U, V:baabb,\t\n",
    "    W:babaa,\t\n",
    "    X:babab,\t\n",
    "    Y:babba,\t\n",
    "    Z:babbb\n",
    "}\n",
    "\n",
    "for abeceda in sprava:\n",
    "    "
   ]
  },
  {
   "cell_type": "markdown",
   "id": "62e71f21-0f31-4a76-936f-b18fb6dd2294",
   "metadata": {},
   "source": [
    "## #9 prienik\n",
    "9. Napíš funkciu, ktorá vráti prienik dvoch zadaných listov (prvky, ktoré sa\r\n",
    "nachádzajú v oboch zoznamoch).\r"
   ]
  },
  {
   "cell_type": "code",
   "execution_count": 22,
   "id": "ef77ec19-ef5c-4c79-99a6-b9a7359b8e0f",
   "metadata": {},
   "outputs": [
    {
     "data": {
      "text/plain": [
       "[3, 4, 5]"
      ]
     },
     "execution_count": 22,
     "metadata": {},
     "output_type": "execute_result"
    }
   ],
   "source": [
    "def prienik_listov(list_a, list_b):\n",
    "    '''\n",
    "    vstup = dva listy\n",
    "    vystup = jeden list spoločných objektov dvoch vstupných listov\n",
    "\n",
    "    zmení vstupné listy na sety a pomocou '&' vyberie prienik \n",
    "    \n",
    "    '''\n",
    "    \n",
    "    common = list(set(list_a) & set(list_b)) #musim pouziť set lebo '&' je unsupported operand pre list&list\n",
    "\n",
    "    return common\n",
    "\n",
    "list_a = [1, 2, 3, 4, 5]\n",
    "list_b = [3, 4, 5, 6, 7]\n",
    "\n",
    "prienik_listov(list_a, list_b)\n",
    "\n"
   ]
  },
  {
   "cell_type": "markdown",
   "id": "7e5cc260-c9ea-4e90-bd7f-21720db1fcf4",
   "metadata": {},
   "source": [
    "## #10 set\n",
    "Napíš funkciu, ktorá odstráni duplikáty zo zadaného listu a vráti zoznam\r\n",
    "s jedinečnými prvkami.\r"
   ]
  },
  {
   "cell_type": "code",
   "execution_count": 24,
   "id": "c2c938b4-08c4-445e-a5cb-9fa38bb4b867",
   "metadata": {},
   "outputs": [
    {
     "data": {
      "text/plain": [
       "{'hnede', 'modre', 'zelene', 'čierne'}"
      ]
     },
     "execution_count": 24,
     "metadata": {},
     "output_type": "execute_result"
    }
   ],
   "source": [
    "def jedinecny_zoznam(mylist):\n",
    "    return set(mylist)\n",
    "\n",
    "\n",
    "oko = ['modre', 'modre', 'zelene', 'čierne', 'zelene', 'zelene', 'hnede', 'modre', 'čierne']\n",
    "jedinecny_zoznam(oko)"
   ]
  },
  {
   "cell_type": "markdown",
   "id": "a60e5582-0c5f-4482-816e-6daab722f38d",
   "metadata": {},
   "source": [
    "## #11 faktorial\n",
    ". Napíš funkciu, ktorý vypočíta súčet faktoriálov všetkých číslic zadaného\r\n",
    "čísla. Funkciu na určenia faktorialu si už robila zrecykluj ju."
   ]
  },
  {
   "cell_type": "code",
   "execution_count": 25,
   "id": "529630d8-0c6e-416f-b9ec-2dcbfa1ca953",
   "metadata": {},
   "outputs": [
    {
     "name": "stdout",
     "output_type": "stream",
     "text": [
      "24, 6, 24, "
     ]
    },
    {
     "data": {
      "text/plain": [
       "54"
      ]
     },
     "execution_count": 25,
     "metadata": {},
     "output_type": "execute_result"
    }
   ],
   "source": [
    "def factorial_recursive(n):\n",
    "    if n < 0:\n",
    "        return \"Factorial is not defined for negative numbers.\"\n",
    "    if n == 0 or n == 1:\n",
    "        return 1\n",
    "    return n * factorial_recursive(n - 1)\n",
    "\n",
    "def rozloz_cifru(n):\n",
    "\n",
    "    listik = [int(d) for d in str(n)]\n",
    "    return listik\n",
    "    \n",
    "def fac_sum(a):\n",
    "    suma = 0\n",
    "    a = rozloz_cifru(a)\n",
    "\n",
    "    for cifra in a: \n",
    "        fac = factorial_recursive(cifra)\n",
    "        print(fac, end = ', ')\n",
    "        suma += fac\n",
    "\n",
    "    return suma\n",
    "\n",
    "fac_sum(434)\n",
    "\n",
    "#good lord konecne !!!\n"
   ]
  },
  {
   "cell_type": "markdown",
   "id": "b5a09670-ca42-481d-9e73-cc1b5a98ee3b",
   "metadata": {},
   "source": [
    "## #12 stromy\n",
    "Napíš program, ktorý analyzuje vzťah medzi vekom stromov a ich výškou a\r\n",
    "vykreslí scatter plot. Vedela by si do grafu vložiť linearnu regresiu priklad\r\n",
    "?"
   ]
  },
  {
   "cell_type": "code",
   "execution_count": 1,
   "id": "7268d7ed-999f-433b-b2cc-5c9f412bdc74",
   "metadata": {},
   "outputs": [
    {
     "data": {
      "text/plain": [
       "[<matplotlib.lines.Line2D at 0x124d499a890>]"
      ]
     },
     "execution_count": 1,
     "metadata": {},
     "output_type": "execute_result"
    },
    {
     "data": {
      "image/png": "[encoded data removed]",
      "text/plain": [
       "<Figure size 640x480 with 1 Axes>"
      ]
     },
     "metadata": {},
     "output_type": "display_data"
    }
   ],
   "source": [
    "import numpy as np \n",
    "import matplotlib.pyplot as plt\n",
    "\n",
    "# Príkladové údaje\n",
    "tree_ages = np.array([1, 2, 3, 4, 5, 10, 15, 20, 25, 30, 35, 40, 50, 60])\n",
    "tree_heights = np.array([0.5, 1.0, 1.5, 2.0, 2.5, 5.0, 7.5, 10.0, 12.5, 15.0, 17.5, 20.0, 25.0, 30.0])\n",
    "\n",
    "#create basic scatterplot\n",
    "plt.plot(tree_ages, tree_heights, 'p')\n",
    "\n",
    "#obtain m (slope) and b(intercept) of linear regression line\n",
    "m, b = np.polyfit(tree_ages, tree_heights, 1)\n",
    "\n",
    "#add linear regression line to scatterplot \n",
    "plt.plot(tree_ages, m*tree_ages+b)\n",
    "\n",
    "\n",
    "\n",
    "\n",
    "\n"
   ]
  },
  {
   "cell_type": "markdown",
   "id": "b76091ec-8e9d-45c2-9113-fd8e2708d9b9",
   "metadata": {},
   "source": [
    "## #13 delitel\n",
    "13. napíš program, ktorý požiada používateľa o číslo a potom určí zoznam\r\n",
    "všetkých deliteľov tohto čísla"
   ]
  },
  {
   "cell_type": "code",
   "execution_count": 25,
   "id": "60094426-f300-42dc-b0d5-974c85181627",
   "metadata": {},
   "outputs": [
    {
     "name": "stdout",
     "output_type": "stream",
     "text": [
      "Zadaj číslo:\n"
     ]
    },
    {
     "name": "stdin",
     "output_type": "stream",
     "text": [
      " 16\n"
     ]
    },
    {
     "data": {
      "text/plain": [
       "[1, 2, 4, 8, 16]"
      ]
     },
     "execution_count": 25,
     "metadata": {},
     "output_type": "execute_result"
    }
   ],
   "source": [
    "def delitele():\n",
    "\n",
    "    print('Zadaj číslo:')\n",
    "    cislo = int(input())\n",
    "\n",
    "    pot_delitel = 1\n",
    "    delitele = [] \n",
    "\n",
    "    for i in range(1, cislo +1):\n",
    "        if cislo % pot_delitel == 0: delitele.append(pot_delitel)\n",
    "        pot_delitel += 1\n",
    "\n",
    "    return delitele\n",
    "\n",
    "delitele()\n",
    "\n",
    "    "
   ]
  },
  {
   "cell_type": "markdown",
   "id": "bef95d2f-bf8d-44e9-b208-ef119e06c4b5",
   "metadata": {},
   "source": [
    "## #14 ceasar\n",
    "Šifrovanie Ceasara - Napíš funkciu, ktorý šifruje zadaný reťazec pomocou\r\n",
    "Ceasarovej šifry s posunom 3. vysvetlenie - stači pre anglicku abecedu"
   ]
  },
  {
   "cell_type": "code",
   "execution_count": 4,
   "id": "57fbf92d-3ed1-4bcf-80b7-a015a287f18a",
   "metadata": {},
   "outputs": [
    {
     "name": "stdout",
     "output_type": "stream",
     "text": [
      "Zadaj správu:\n"
     ]
    },
    {
     "name": "stdin",
     "output_type": "stream",
     "text": [
      " Co na to hovoris Jozinko\n"
     ]
    },
    {
     "name": "stdout",
     "output_type": "stream",
     "text": [
      "fr qd wr kryrulv mrclqnr"
     ]
    }
   ],
   "source": [
    "def Ceasar():\n",
    "    # vypýtaj input od používateľa\n",
    "    print('Zadaj správu:')\n",
    "    sprava = input()\n",
    "    sprava_lower = sprava.lower()\n",
    "    #print(sprava_lower)\n",
    "\n",
    "    #iteruj zadany string\n",
    "    for pismenko in sprava_lower:\n",
    "        #urči čo sa má zobraziť namiesto pôvodného písmenka\n",
    "        match pismenko:\n",
    "            case 'a':\n",
    "                print('d', end = '')\n",
    "            case 'b':\n",
    "                print('e', end = '')\n",
    "            case 'c':\n",
    "                print('f', end = '')\n",
    "            case 'd':\n",
    "                print('g', end = '')\n",
    "            case 'e':\n",
    "                print('h', end = '')\n",
    "            case 'f':\n",
    "                print('i', end = '')\n",
    "            case 'g':\n",
    "                print('j', end = '')\n",
    "            case 'h':\n",
    "                print('k', end = '')\n",
    "            case 'i':\n",
    "                print('l', end = '')\n",
    "            case 'j':\n",
    "                print('m', end = '')\n",
    "            case 'k':\n",
    "                print('n', end = '')\n",
    "            case 'l':\n",
    "                print('o', end = '')\n",
    "            case 'm':\n",
    "                print('p', end = '')\n",
    "            case 'n':\n",
    "                print('q', end = '')\n",
    "            case 'o':\n",
    "                print('r', end = '')\n",
    "            case 'p':\n",
    "                print('s', end = '')\n",
    "            case 'q':\n",
    "                print('t', end = '')\n",
    "            case 'r':\n",
    "                print('u', end = '')\n",
    "            case 's':\n",
    "                print('v', end = '')\n",
    "            case 't':\n",
    "                print('w', end = '')\n",
    "            case 'u':\n",
    "                print('x', end = '')\n",
    "            case 'v':\n",
    "                print('y', end = '')\n",
    "            case 'w':\n",
    "                print('z', end = '')\n",
    "            case 'x':\n",
    "                print('a', end = '')\n",
    "            case 'y':\n",
    "                print('b', end = '')\n",
    "            case 'z':\n",
    "                print('c', end = '')\n",
    "            case ' ':\n",
    "                print(' ', end = '')\n",
    "              \n",
    "Ceasar()\n",
    "\n"
   ]
  },
  {
   "cell_type": "markdown",
   "id": "0c03e1ee-2dd4-4648-874d-234a0db145d9",
   "metadata": {},
   "source": [
    "## #15 prvočíslo\n",
    "Prvočíslo - Napíš funkciu, ktorá zistí, či je zadané číslo prvočíslo. použi\r\n",
    "eratostenovo syto. implementaciaAk cheš možeš pohladať a použiť aj iné\r\n",
    "algoritmy\r"
   ]
  },
  {
   "cell_type": "code",
   "execution_count": 10,
   "id": "8e148190-8841-45bd-aa3b-bf47690bc5d7",
   "metadata": {},
   "outputs": [
    {
     "name": "stdout",
     "output_type": "stream",
     "text": [
      "29 je prvočíslo.\n"
     ]
    }
   ],
   "source": [
    "def prvocislo(cislo):\n",
    "\n",
    "    '''\n",
    "    Funkcia povie, ci je zadane cislo prvocislo.\n",
    "    '''\n",
    "\n",
    "    pot_delitel = 1\n",
    "    delitele = [] \n",
    "\n",
    "    for i in range(1, cislo +1):\n",
    "        if cislo % pot_delitel == 0: delitele.append(pot_delitel)\n",
    "        pot_delitel += 1\n",
    "\n",
    "    if len(delitele) == 2: print(f'{cislo} je prvočíslo.')\n",
    "    else: print(f'{cislo} nie je prvočíslo.')\n",
    "\n",
    "prvocislo(29)\n",
    "\n",
    "# prerob aby vypisovala prvočísla po zadané n\n"
   ]
  },
  {
   "cell_type": "code",
   "execution_count": 19,
   "id": "659dba90-4d58-4353-82c5-2a1f4cda7b5a",
   "metadata": {},
   "outputs": [
    {
     "data": {
      "text/plain": [
       "[2, 3, 5, 7, 11, 13, 17, 19, 23, 29, 31]"
      ]
     },
     "execution_count": 19,
     "metadata": {},
     "output_type": "execute_result"
    }
   ],
   "source": [
    "def prvocislo_zoznam(n):\n",
    "    '''\n",
    "    Funkcia vypise vsetky prvocisla po zadane cislo n.\n",
    "    '''\n",
    "\n",
    "    prvocisla = []\n",
    "\n",
    "    for i in range(2, n + 1): #zacina dvojkou, lebo 1 nie je prvocislo\n",
    "        delitele = [] #preco musi byt tu a nemoze byt na zaciatku ako list prvocisel?\n",
    "        for pot_delitel in range(1, i + 1):\n",
    "            if i % pot_delitel == 0: \n",
    "                delitele.append(pot_delitel)\n",
    "        if len(delitele) == 2: #preco tento if patri pod uplne prvy for a nie pod druhy?\n",
    "            prvocisla.append(i)\n",
    "\n",
    "    return prvocisla\n",
    "        \n",
    "        \n",
    "prvocislo_zoznam(35)\n",
    "\n",
    "# prerob aby vypisovala prvočísla po zadané n\n"
   ]
  },
  {
   "cell_type": "markdown",
   "id": "8722db13-0521-4234-add4-db8253a8b28e",
   "metadata": {},
   "source": [
    "## #BONUS prvočíslo\n",
    "\n",
    "Napíš funkciu, ktorá zistí, či sú čísla od 0 až po zadanú hodnotu prvočísla. Urči čas výpočtu. Výsledky (prvočísla) daj do listu. Implementuj napíš rovnakú funkciu s alternatívnym algoritmom Eratostenovým sitom a porovnaj časy určenia prvočísel od 0 do 1 miliónu."
   ]
  },
  {
   "cell_type": "code",
   "execution_count": 17,
   "id": "fb7249c7-8fa3-4c9b-a369-144d86032f3b",
   "metadata": {},
   "outputs": [
    {
     "data": {
      "text/plain": [
       "[2, 3, 5, 7, 11, 13, 17, 19, 23, 29, 31]"
      ]
     },
     "execution_count": 17,
     "metadata": {},
     "output_type": "execute_result"
    }
   ],
   "source": [
    "# Prvočísla - Sieve of Eratosthenes\n",
    "\n",
    "def Prime_Erato(n):\n",
    "\n",
    "    import math\n",
    "    \n",
    "    List = []\n",
    "    primes = list()\n",
    "    \n",
    "    for x in range(2, n): # add numbers from 2 to n - 1 to List\n",
    "        List.append(x)\n",
    "    # note the above statement is equivalent to List = range(2, n)\n",
    "    \n",
    "    p = 2 # p is a prime\n",
    "    \n",
    "    while not int(math.sqrt(p)) + 1 > n: # continue to mark out primes until square root of p is less than n\n",
    "    \n",
    "        for x in range(p * 2, n, p): # remove all the multiples of p\n",
    "            List[x - 2] = 0\n",
    "    \n",
    "        p += 1\n",
    "    \n",
    "        while p - 2 < len(List) and List[p - 2] == 0: # assign p to the next prime. Next prime is the next non zero number in the list\n",
    "            p += 1\n",
    "    \n",
    "    for x in List: # search for non zero or prime numbers in the list and print them\n",
    "        if x != 0: primes.append(x)\n",
    "\n",
    "    return primes\n",
    "\n",
    "Prime_Erato(35)\n",
    "\n"
   ]
  },
  {
   "cell_type": "code",
   "execution_count": 7,
   "id": "9bcb6fb1-07e8-4d41-a1f0-2be5930c1c80",
   "metadata": {},
   "outputs": [
    {
     "data": {
      "text/plain": [
       "[2, 3, 5, 7, 11, 13, 17, 19]"
      ]
     },
     "execution_count": 7,
     "metadata": {},
     "output_type": "execute_result"
    }
   ],
   "source": [
    "# Prvočísla - ChatGPT trial division method\n",
    "\n",
    "def is_prime(number):\n",
    "    if number <= 1:\n",
    "        return False\n",
    "    if number <= 3:\n",
    "        return True\n",
    "    if number % 2 == 0 or number % 3 == 0:\n",
    "        return False\n",
    "    i = 5\n",
    "    while i * i <= number:\n",
    "        if number % i == 0 or number % (i + 2) == 0:\n",
    "            return False\n",
    "        i += 6\n",
    "    return True\n",
    "\n",
    "def generate_primes(n):\n",
    "    primes = []\n",
    "    for num in range(2, n + 1):\n",
    "        if is_prime(num):\n",
    "            primes.append(num)\n",
    "    return primes\n",
    "\n",
    "# Replace with any value of n\n",
    "\n",
    "\n",
    "generate_primes(20)"
   ]
  },
  {
   "cell_type": "markdown",
   "id": "64456b41-e005-43a0-8a81-7cf0c5fed64b",
   "metadata": {},
   "source": [
    "## #BONUS meranie strojového času"
   ]
  },
  {
   "cell_type": "code",
   "execution_count": null,
   "id": "2f7da336-0529-41f5-a2b9-d45a32faf994",
   "metadata": {},
   "outputs": [],
   "source": [
    "import time\n",
    "import math \n",
    "import matplotlib.pyplot as plt\n",
    "\n",
    "#---------------------------------------\n",
    "#pomocne funckei\n",
    "#---------------------------------------\n",
    "\n",
    "# spocitaj faktorial\n",
    "def spocitaj_faktorial(cislo):\n",
    "    return math.factorial(cislo)\n",
    " \n",
    "# zmeraj cas ktory trva na vypočitanie faktorualu daneho cisla\n",
    "def meraj_cas_funkcie_faktorial(cislo):\n",
    "    start_cas = time.time() # zaciatok merania\n",
    "    \n",
    "    spocitaj_faktorial(cislo)      \n",
    "    \n",
    "    end_cas = time.time() # koniec merania\n",
    "    \n",
    "    return end_cas - start_cas \n",
    "    \n",
    "#----------------------------------------------\n",
    "# hlavna cast programu kde uričim časovu zavislost vypočtu hodnoty faktorialu\n",
    "#----------------------------------------------\n",
    "\n",
    "zoznam_cisel=range(0,500000,5000)\n",
    "casy_vypoctu_faktorialov=list() # prazdny list ny vysledky casov faktorialov\n",
    "start_cas = time.time() # zaciatok merania\n",
    "\n",
    "for cislo in zoznam_cisel:\n",
    "    vysledok =  meraj_cas_funkcie_faktorial(cislo)\n",
    "    casy_vypoctu_faktorialov.append(vysledok)\n",
    "\n",
    "end_cas = time.time() # koniec merania\n",
    "\n",
    "# vykreslovanie vylsedok\n",
    "plt.plot(zoznam_cisel,casy_vypoctu_faktorialov)\n",
    "plt.xlabel('cislo z ktoreho počitam Faktorial', fontsize=14)\n",
    "plt.ylabel('t [s]', fontsize=14)\n",
    "plt.show\n",
    "\n",
    "print( 'Vypocet zavislosti trval ' , end_cas - start_cas , ' sekund') "
   ]
  },
  {
   "cell_type": "code",
   "execution_count": 23,
   "id": "1edb71fb-b52b-44fc-bc96-711d4ef11d0d",
   "metadata": {},
   "outputs": [
    {
     "name": "stdout",
     "output_type": "stream",
     "text": [
      "Vypocet zavislosti trval  2.927450180053711  sekund\n"
     ]
    },
    {
     "data": {
      "image/png": "[encoded data removed]",
      "text/plain": [
       "<Figure size 640x480 with 1 Axes>"
      ]
     },
     "metadata": {},
     "output_type": "display_data"
    }
   ],
   "source": [
    "#______________________________________________________________________________________\n",
    "################### Meranie funkcie prvocislo_zoznam ##################################\n",
    "#______________________________________________________________________________________\n",
    "import time\n",
    "import math \n",
    "import matplotlib.pyplot as plt\n",
    "\n",
    "\n",
    " \n",
    "# zmeraj cas ktory trva na vypočitanie faktorualu daneho cisla\n",
    "def meraj_cas_funkcie(n):\n",
    "    start_cas = time.time() # zaciatok merania\n",
    "    \n",
    "    prvocislo_zoznam(n)      \n",
    "    \n",
    "    end_cas = time.time() # koniec merania\n",
    "    \n",
    "    return end_cas - start_cas \n",
    "    \n",
    "#----------------------------------------------\n",
    "# hlavna cast programu kde uričim časovu zavislost vypočtu hodnoty faktorialu\n",
    "#----------------------------------------------\n",
    "\n",
    "\n",
    "zoznam_cisel=range(0, 1000, 10)\n",
    "casy_vypoctu=list() # prazdny list ny vysledky casov faktorialov\n",
    "start_cas = time.time() # zaciatok merania\n",
    "\n",
    "for cislo in zoznam_cisel:\n",
    "    vysledok =  meraj_cas_funkcie(1000)\n",
    "    casy_vypoctu.append(vysledok)\n",
    "\n",
    "end_cas = time.time() # koniec merania\n",
    "\n",
    "# vykreslovanie vylsedok\n",
    "plt.plot(zoznam_cisel,casy_vypoctu)\n",
    "plt.xlabel('cislo z ktoreho počitam', fontsize=14)\n",
    "plt.ylabel('t [s]', fontsize=14)\n",
    "plt.show\n",
    "\n",
    "print( 'Vypocet zavislosti trval ' , end_cas - start_cas , ' sekund') "
   ]
  },
  {
   "cell_type": "code",
   "execution_count": 24,
   "id": "da5f4bab-3912-4ba9-a37e-0abd5149e37d",
   "metadata": {},
   "outputs": [
    {
     "name": "stdout",
     "output_type": "stream",
     "text": [
      "Vypocet zavislosti trval  52.244776248931885  sekund\n"
     ]
    },
    {
     "data": {
      "image/png": "[encoded data removed]",
      "text/plain": [
       "<Figure size 640x480 with 1 Axes>"
      ]
     },
     "metadata": {},
     "output_type": "display_data"
    }
   ],
   "source": [
    "#______________________________________________________________________________________\n",
    "################### Meranie funkcie Prime_Erato ##################################\n",
    "#______________________________________________________________________________________\n",
    "import time\n",
    "import math \n",
    "import matplotlib.pyplot as plt\n",
    "\n",
    "\n",
    " \n",
    "# zmeraj cas ktory trva na vypočitanie faktorualu daneho cisla\n",
    "def meraj_cas_funkcie(n):\n",
    "    start_cas = time.time() # zaciatok merania\n",
    "    \n",
    "    Prime_Erato(n)      \n",
    "    \n",
    "    end_cas = time.time() # koniec merania\n",
    "    \n",
    "    return end_cas - start_cas \n",
    "    \n",
    "#----------------------------------------------\n",
    "# hlavna cast programu kde uričim časovu zavislost vypočtu hodnoty faktorialu\n",
    "#----------------------------------------------\n",
    "\n",
    "\n",
    "zoznam_cisel=range(0, 1000, 10)\n",
    "casy_vypoctu=list() # prazdny list ny vysledky casov faktorialov\n",
    "start_cas = time.time() # zaciatok merania\n",
    "\n",
    "for cislo in zoznam_cisel:\n",
    "    vysledok =  meraj_cas_funkcie(1000)\n",
    "    casy_vypoctu.append(vysledok)\n",
    "\n",
    "end_cas = time.time() # koniec merania\n",
    "\n",
    "# vykreslovanie vylsedok\n",
    "plt.plot(zoznam_cisel,casy_vypoctu)\n",
    "plt.xlabel('cislo z ktoreho počitam', fontsize=14)\n",
    "plt.ylabel('t [s]', fontsize=14)\n",
    "plt.show\n",
    "\n",
    "print( 'Vypocet zavislosti trval ' , end_cas - start_cas , ' sekund') "
   ]
  },
  {
   "cell_type": "code",
   "execution_count": null,
   "id": "5fa3d0dd-91e1-4556-b7d9-2930774c10f5",
   "metadata": {},
   "outputs": [],
   "source": []
  }
 ],
 "metadata": {
  "kernelspec": {
   "display_name": "Python 3 (ipykernel)",
   "language": "python",
   "name": "python3"
  },
  "language_info": {
   "codemirror_mode": {
    "name": "ipython",
    "version": 3
   },
   "file_extension": ".py",
   "mimetype": "text/x-python",
   "name": "python",
   "nbconvert_exporter": "python",
   "pygments_lexer": "ipython3",
   "version": "3.11.7"
  }
 },
 "nbformat": 4,
 "nbformat_minor": 5
}
