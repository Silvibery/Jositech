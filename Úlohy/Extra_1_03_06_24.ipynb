{
 "cells": [
  {
   "cell_type": "markdown",
   "id": "8fd09917-4f64-40c5-a99c-86d7958b48f0",
   "metadata": {},
   "source": [
    "Napíš funkcie ktoré:\n",
    "• skontroluj či proteín obsahuje štandartné aminokyseliny ( zoznam\n",
    "nižšie)\n",
    "• zistí molekulárnu hmotnosť proteínu\n",
    "• zisti počet a druh amynokyselín a vynes do box plot ( hint: uprav\n",
    "len funkciu counts_DNA z minula)\n",
    "• otestuj na vlastnom proteíne\n"
   ]
  },
  {
   "cell_type": "code",
   "execution_count": 2,
   "id": "1d307e86-d5eb-4822-be34-39c02cff1400",
   "metadata": {},
   "outputs": [],
   "source": [
    "protein = 'PFTGIPRETMWPHYPNFVDGVTYKRNFFKCYWKPMETTQFGWCNKQLMSQHHSTLCFAGK\\\n",
    "PFSDALPGWHTCNFIAMQEIPKQYYKMFEMSKCWQIFWWFVKPVGWDWWYEVEDCYYEHF\\\n",
    "TGRNIPMAYFERWLREPDLNFEWLDFPEICVAKVAVSQRSGCYAWPVQFYWSPWATWPVG\\\n",
    "AGQDMRQTAWGRIQWGNGLGRTAYQPPQEAYSNQFTHPDKIHNVINLTGNIHRWTQEGRC\\\n",
    "QIKFSNWFCMRLIYLHYQEKTYGYEWDVLMVRKFVASPHRAYGNDHDDQGPHGFVCQREE\\\n",
    "PTFKFRFAPYERVIRDHQLSHMDIFHCANKLMHYHQCEIFFVGSLRQRGDGVIELTPAET\\\n",
    "HMLHFYKCNHKMRHKGISYFSRLYCNHISVWLHTEIEFCAAVPYRGSYMYQKFFAQQMQW\\\n",
    "LAVANADHTIMLENTVCVFRWYDIYAVKLQEDGMKCTCIFRNGKGLHEIRIRVINMMDML\\\n",
    "NMQQRYMYFVTHVMSFIFVRQWWGKSTNVAKVGQIICCAKYCYHMMRAHFNETAIYFIEH\\\n",
    "MGMVWEFEADQRIDQTCIRDNGPGDYVAIPHQQENMTYDKYQRKKFFSISREILYDPCVG\\\n",
    "IPKEFVPTLISDAACYQNSSSENTVTTFGLHSQICYHLIHEQNSLPKNYWFSDYPESFES\\\n",
    "AKLVTDKNSKAVISPCFHERTTAMIERDNCIIFSQCDHEFTWLCQSGCSGQMEQPIRRTK\\\n",
    "YPGTHSYTEKIKQTVMPNQNTHYDLNIPHFMVCPVSYSYTCPECDTPRPPQYLVWNCSHN\\\n",
    "RLVNMKTTIRAWNYLNTDENIHESKEYCLPLSYHMPQYPEISVRRVMKAPFKAAQLMYDK\\\n",
    "LFRQQMNPRDLCIASACCFFIYAAHSIRGFHSSSNDFAPFVISQHNVSIACTTDLQTHQQ\\\n",
    "YWAWTKQVYLKYIGWVMLHKNATCMKNEGHSSDRSKKCFMQCCNRKKYQTHHTCVCDLPR\\\n",
    "PNTPRLVLLIEAMRKCKWVMYFNLYDCSIYNYLIWWLLHF'\n",
    "\n",
    "# Dictionary hmotností aminokyselín\n",
    "amino_acid_weights = {\n",
    "'A': 89.09, 'C': 121.15, 'D': 133.10, 'E': 147.13, 'F': 165.19,\n",
    "'G': 75.07, 'H': 155.16, 'I': 131.17, 'K': 146.19, 'L': 131.17,\n",
    "'M': 149.21, 'N': 132.12, 'P': 115.13, 'Q': 146.15, 'R': 174.20,\n",
    "'S': 105.09, 'T': 119.12, 'V': 117.15, 'W': 204.23, 'Y': 181.19}\n"
   ]
  },
  {
   "cell_type": "code",
   "execution_count": 3,
   "id": "10769413-e978-4e9d-b76c-db2b10897763",
   "metadata": {},
   "outputs": [
    {
     "name": "stdout",
     "output_type": "stream",
     "text": [
      "All amino acids are standard\n"
     ]
    }
   ],
   "source": [
    "def AA_standardy(protein):\n",
    "    '''\n",
    "    vstup = string, aminokyseliny\n",
    "    výstup = print informácie, či sú všetky AA štandardné\n",
    "\n",
    "    funkcia prechádza string písmenko po písmenku a porovnáva s klúčmi v slovníku, \n",
    "    ktorý obsahuje AA s prislúchajúcimi molekulovými hmotnosťami ako value\n",
    "    \n",
    "    '''\n",
    "\n",
    "    for amino in protein:\n",
    "        if amino not in amino_acid_weights.keys():\n",
    "            print('Nonstandard amino acid present')\n",
    "    \n",
    "    else:\n",
    "        print('All amino acids are standard')\n",
    "\n",
    "AA_standardy(protein)"
   ]
  },
  {
   "cell_type": "code",
   "execution_count": 4,
   "id": "c298845d-dc74-4c52-99d1-1421315cb802",
   "metadata": {},
   "outputs": [
    {
     "data": {
      "text/plain": [
       "{'A': 48,\n",
       " 'C': 48,\n",
       " 'D': 40,\n",
       " 'E': 49,\n",
       " 'F': 60,\n",
       " 'G': 41,\n",
       " 'H': 50,\n",
       " 'I': 58,\n",
       " 'K': 52,\n",
       " 'L': 50,\n",
       " 'M': 43,\n",
       " 'N': 49,\n",
       " 'P': 50,\n",
       " 'Q': 57,\n",
       " 'R': 51,\n",
       " 'S': 52,\n",
       " 'T': 53,\n",
       " 'V': 51,\n",
       " 'W': 37,\n",
       " 'Y': 61}"
      ]
     },
     "execution_count": 4,
     "metadata": {},
     "output_type": "execute_result"
    }
   ],
   "source": [
    "def counts(protein):\n",
    "    \n",
    "    zoznam = {\n",
    "'A': 0, 'C': 0, 'D': 0, 'E': 0, 'F': 0,\n",
    "'G': 0, 'H': 0, 'I': 0, 'K': 0, 'L': 0,\n",
    "'M': 0, 'N': 0, 'P': 0, 'Q': 0, 'R': 0,\n",
    "'S': 0, 'T': 0, 'V': 0, 'W': 0, 'Y': 0}\n",
    "\n",
    "    # Loop through each AA in the protein sequence\n",
    "    for amino in protein:\n",
    "        if amino in protein: zoznam[amino] += 1\n",
    "\n",
    "    return zoznam\n",
    "\n",
    "\n",
    "counts(protein)\n",
    "\n"
   ]
  },
  {
   "cell_type": "code",
   "execution_count": 12,
   "id": "4c95ac47-aa52-4a50-8646-d6985f4d1f0e",
   "metadata": {},
   "outputs": [
    {
     "data": {
      "text/plain": [
       "<function matplotlib.pyplot.show(close=None, block=None)>"
      ]
     },
     "execution_count": 12,
     "metadata": {},
     "output_type": "execute_result"
    },
    {
     "data": {
      "image/png": "[encoded data removed]",
      "text/plain": [
       "<Figure size 640x480 with 1 Axes>"
      ]
     },
     "metadata": {},
     "output_type": "display_data"
    }
   ],
   "source": [
    "zoznam ={'A': 48,\n",
    " 'C': 48,\n",
    " 'D': 40,\n",
    " 'E': 49,\n",
    " 'F': 60,\n",
    " 'G': 41,\n",
    " 'H': 50,\n",
    " 'I': 58,\n",
    " 'K': 52,\n",
    " 'L': 50,\n",
    " 'M': 43,\n",
    " 'N': 49,\n",
    " 'P': 50,\n",
    " 'Q': 57,\n",
    " 'R': 51,\n",
    " 'S': 52,\n",
    " 'T': 53,\n",
    " 'V': 51,\n",
    " 'W': 37,\n",
    " 'Y': 61}\n",
    "\n",
    "# milacku nemyslel si barplot? boxplot mi nedava zmysel\n",
    "\n",
    "import matplotlib.pyplot as plt\n",
    "\n",
    "plt.bar(zoznam.keys(), zoznam.values())\n",
    "plt.show"
   ]
  },
  {
   "cell_type": "code",
   "execution_count": 12,
   "id": "a3a740c8-d640-4905-84fb-02315b64b9d4",
   "metadata": {},
   "outputs": [
    {
     "data": {
      "text/plain": [
       "119381.35"
      ]
     },
     "execution_count": 12,
     "metadata": {},
     "output_type": "execute_result"
    }
   ],
   "source": [
    "#molecular_weight of protein\n",
    "\n",
    "def protein_weight(protein):\n",
    "    '''\n",
    "    vstup = string, sekvencia proteínu\n",
    "    výstup = float, molekulová hmotnosť proteínu v Da\n",
    "    potrebné zavolať funkciu counts, ktorá spočítava počty jednotlivých AA v sekvencii,\n",
    "    následne sa vynásobia počty aminokyselín s príslušnými molekulovými hmotnosťami a spočítajú,\n",
    "    odpočítajú sa hmotnosti molekuly vody (18 Da), podľa počtu vytvorených proteínových väzieb,\n",
    "    spravidla len(protein)-1\n",
    "    \n",
    "    '''\n",
    "\n",
    "    amino_acid_weights = {\n",
    "'A': 89.09, 'C': 121.15, 'D': 133.10, 'E': 147.13, 'F': 165.19,\n",
    "'G': 75.07, 'H': 155.16, 'I': 131.17, 'K': 146.19, 'L': 131.17,\n",
    "'M': 149.21, 'N': 132.12, 'P': 115.13, 'Q': 146.15, 'R': 174.20,\n",
    "'S': 105.09, 'T': 119.12, 'V': 117.15, 'W': 204.23, 'Y': 181.19}\n",
    "\n",
    "    pocty_AA = counts(protein)\n",
    "    \n",
    "\n",
    "    for AA in pocty_AA: \n",
    "        proteinova_hmotnost = sum(pocty_AA[AA]*amino_acid_weights[AA] for AA in pocty_AA) - 18*(len(protein)-1)\n",
    "\n",
    "    return proteinova_hmotnost\n",
    "\n",
    "protein_weight(protein)\n",
    "\n",
    "\n",
    "\n",
    "\n"
   ]
  }
 ],
 "metadata": {
  "kernelspec": {
   "display_name": "Python 3 (ipykernel)",
   "language": "python",
   "name": "python3"
  },
  "language_info": {
   "codemirror_mode": {
    "name": "ipython",
    "version": 3
   },
   "file_extension": ".py",
   "mimetype": "text/x-python",
   "name": "python",
   "nbconvert_exporter": "python",
   "pygments_lexer": "ipython3",
   "version": "3.11.7"
  }
 },
 "nbformat": 4,
 "nbformat_minor": 5
}
