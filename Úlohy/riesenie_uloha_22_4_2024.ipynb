{
 "cells": [
  {
   "cell_type": "markdown",
   "id": "ee4f06d7-7379-4c66-bdd2-5c3441e61110",
   "metadata": {},
   "source": [
    "# v nasledujúcej premennej su študenti a ich hodnotenie za jednotlivé písomky počas semestra\n",
    "zoznam_studentov = {'Fero': [15,5,8,15,20],\n",
    "                    'Iveta': [22,8,9,16,18],\n",
    "                    'Adam': [4,5,8,1,5,6],\n",
    "                    'Julia': [18,6,9,14,17,20]}\n",
    "                    \n",
    "#Vypočítaj celkový počet bodov získaných za semester \n",
    "#Vypočítaj priemerný počet bodo získaný za celí semester\n",
    "\n",
    "#Pridaď známku študentovi a pridať ak splna kriteria aj štipendium\n",
    "#ak 0-55 bodov FX\n",
    "#ak 56-62 bodoc D\n",
    "#ak 63-72 bodoc C\n",
    "#ak 73-91 bodoc B\n",
    "#ak 92-100 bodov A\n",
    "#Zároven ak Má študent A alebo B a z prvého zadania ma viac ako 15 bodov dostane štipendium 500€\n",
    "\n",
    "#vysledky ulož no noveho dictionary kde key je meno študents a value bude list kde na prvom mieste bude string znamka a na druhom bude Boolean hodnota vyjadrujuca či dostane alebo nedostane štupendium priklad\n",
    "#hodnotenie = {'Fero': ['FX',False]}"
   ]
  },
  {
   "cell_type": "markdown",
   "id": "0b114c82-4640-4d09-bea7-65d4f41a9b33",
   "metadata": {},
   "source": [
    "### Pseudokod\n",
    "\n",
    "zoznam_studentov\n",
    "sucet_bodov je novy dictionary obsahujúci meno študenta ako key a súčet získaných bodov ako sum listu zo zoznam studentov\n",
    "\n",
    "Ak Fero získal 56-62 bodov dostane D\n",
    "inak ak získal 63-72 bodov dostane C\n",
    "inak ak získal 73-91 bodov dostane B\n",
    "vnoreny if Fero z prveho zadania >= 15 bodov: ziska diplom True\n",
    "inak ak získal 92-100 bodov dostane A\n",
    "vnoreny if Fero z prveho zadania >= 15 bodov: ziska diplom True\n",
    "inak dostane FX\n",
    "\n"
   ]
  },
  {
   "cell_type": "code",
   "execution_count": 10,
   "id": "dd89714d-a09d-4fa3-a3a9-7e04e53fceda",
   "metadata": {},
   "outputs": [
    {
     "name": "stdout",
     "output_type": "stream",
     "text": [
      "{'Fero': 63, 'Iveta': 73, 'Adam': 29, 'Julia': 84}\n",
      "{'Fero': 12.6, 'Iveta': 14.6, 'Adam': 4.833333333333333, 'Julia': 14}\n"
     ]
    }
   ],
   "source": [
    "zoznam_studentov = {'Fero': [15,5,8,15,20], 'Iveta': [22,8,9,16,18], 'Adam': [4,5,8,1,5,6], 'Julia': [18,6,9,14,17,20]}\n",
    "\n",
    "sucet_bodov = {'Fero' : sum(zoznam_studentov['Fero']), 'Iveta' : sum(zoznam_studentov['Iveta']), 'Adam' : sum(zoznam_studentov['Adam']), 'Julia' : sum(zoznam_studentov['Julia'])}\n",
    "print(sucet_bodov)\n",
    "\n",
    "import statistics\n",
    "\n",
    "priemer_bodov = {'Fero' : statistics.mean(zoznam_studentov['Fero']), 'Iveta' : statistics.mean(zoznam_studentov['Iveta']), 'Adam' : statistics.mean(zoznam_studentov['Adam']), 'Julia' : statistics.mean(zoznam_studentov['Julia'])}\n",
    "print(priemer_bodov)\n"
   ]
  },
  {
   "cell_type": "code",
   "execution_count": 17,
   "id": "7cd932a7-1884-4721-b30f-258aa0563cca",
   "metadata": {},
   "outputs": [
    {
     "name": "stdout",
     "output_type": "stream",
     "text": [
      "{'Fero': ['C', False]}\n"
     ]
    }
   ],
   "source": [
    "if sucet_bodov['Fero'] >= 92 and sucet_bodov['Fero'] < 100:\n",
    "\n",
    "    if list(zoznam_studentov.values())[0][0] >= 15:\n",
    "        znamka1 = 'A'\n",
    "        stipendium1 = True\n",
    "    else:\n",
    "        znamka1 = 'A' \n",
    "        stipendium1 = False    \n",
    "        \n",
    "elif sucet_bodov['Fero'] >= 73 and sucet_bodov['Fero'] < 92:\n",
    "   \n",
    "    if list(zoznam_studentov.values())[0][0] >= 15:\n",
    "        znamka1 = 'B'\n",
    "        stipendium1 = True\n",
    "    else:\n",
    "        znamka1 = 'B'\n",
    "        stipendium1 = False\n",
    "\n",
    "elif sucet_bodov['Fero'] >= 63 and sucet_bodov['Fero'] < 73:\n",
    "    znamka1 = 'C'\n",
    "    stipendium1 = False\n",
    "\n",
    "elif sucet_bodov['Fero'] >= 56 and sucet_bodov['Fero'] < 63:\n",
    "    znamka1 = 'D'\n",
    "    stipendium1 = False\n",
    "\n",
    "else:\n",
    "    znamka1 = 'FX'\n",
    "    stipendium1 = False\n",
    "\n",
    "hodnotenie_Fero = {'Fero' : [znamka1, stipendium1]}\n",
    "print(hodnotenie_Fero)"
   ]
  },
  {
   "cell_type": "code",
   "execution_count": 18,
   "id": "fac07ade-5fda-4115-91b5-a577246fa76e",
   "metadata": {},
   "outputs": [
    {
     "name": "stdout",
     "output_type": "stream",
     "text": [
      "{'Iveta': ['B', True]}\n"
     ]
    }
   ],
   "source": [
    "if sucet_bodov['Iveta'] >= 92 and sucet_bodov['Iveta'] < 100:\n",
    "    if list(zoznam_studentov.values())[1][0] >= 15:\n",
    "        znamka1 = 'A'\n",
    "        stipendium1 = True\n",
    "    else:\n",
    "        znamka1 = 'A'\n",
    "        stipendium1 = False\n",
    "\n",
    "elif sucet_bodov['Iveta'] >= 73 and sucet_bodov['Iveta'] < 92:\n",
    "    if list(zoznam_studentov.values())[1][0] >= 15:\n",
    "        znamka1 = 'B'\n",
    "        stipendium1 = True\n",
    "    else:\n",
    "        znamka1 = 'B'\n",
    "        stipendium1 = False\n",
    "\n",
    "elif sucet_bodov['Iveta'] >= 63 and sucet_bodov['Iveta'] < 73:\n",
    "    znamka1 = 'C'\n",
    "    stipendium1 = False\n",
    "\n",
    "elif sucet_bodov['Iveta'] >= 56 and sucet_bodov['Iveta'] < 63:\n",
    "    znamka1 = 'D'\n",
    "    stipendium1 = False\n",
    "\n",
    "else:\n",
    "    znamka1 = 'FX'\n",
    "    stipendium1 = False\n",
    "\n",
    "hodnotenie_Iveta = {'Iveta' : [znamka1, stipendium1]}\n",
    "print(hodnotenie_Iveta)"
   ]
  },
  {
   "cell_type": "code",
   "execution_count": 19,
   "id": "7ad23362-19e8-4b1a-ba44-75bb869c543c",
   "metadata": {},
   "outputs": [
    {
     "name": "stdout",
     "output_type": "stream",
     "text": [
      "{'Adam': ['FX', False]}\n"
     ]
    }
   ],
   "source": [
    "if sucet_bodov['Adam'] >= 92 and sucet_bodov['Adam'] < 100:\n",
    "    if list(zoznam_studentov.values())[2][0] >= 15:\n",
    "        znamka1 = 'A'\n",
    "        stipendium1 = True\n",
    "    else:\n",
    "        znamka1 = 'A'\n",
    "        stipendium1 = False\n",
    "\n",
    "elif sucet_bodov['Adam'] >= 73 and sucet_bodov['Adam'] < 92:\n",
    "    if list(zoznam_studentov.values())[2][0] >= 15:\n",
    "        znamka1 = 'B'\n",
    "        stipendium1 = True\n",
    "    else:\n",
    "        znamka1 = 'B'\n",
    "        stipendium1 = False\n",
    "\n",
    "elif sucet_bodov['Adam'] >= 63 and sucet_bodov['Adam'] < 73:\n",
    "    znamka1 = 'C'\n",
    "    stipendium1 = False\n",
    "\n",
    "elif sucet_bodov['Adam'] >= 56 and sucet_bodov['Adam'] < 63:\n",
    "    znamka1 = 'D'\n",
    "    stipendium1 = False\n",
    "\n",
    "else:\n",
    "    znamka1 = 'FX'\n",
    "    stipendium1 = False\n",
    "\n",
    "hodnotenie_Adam = {'Adam' : [znamka1, stipendium1]}\n",
    "print(hodnotenie_Adam)"
   ]
  },
  {
   "cell_type": "code",
   "execution_count": 20,
   "id": "263ce7d6-850a-492e-ba04-974e065cb2cc",
   "metadata": {},
   "outputs": [
    {
     "name": "stdout",
     "output_type": "stream",
     "text": [
      "{'Julia': ['B', True]}\n"
     ]
    }
   ],
   "source": [
    "if sucet_bodov['Julia'] >= 92 and sucet_bodov['Julia'] < 100:\n",
    "    if list(zoznam_studentov.values())[3][0] >= 15:\n",
    "        znamka1 = 'A'\n",
    "        stipendium1 = True\n",
    "    else:\n",
    "        znamka1 = 'A'\n",
    "        stipendium1 = False\n",
    "\n",
    "elif sucet_bodov['Julia'] >= 73 and sucet_bodov['Julia'] < 92:\n",
    "    if list(zoznam_studentov.values())[3][0] >= 15:\n",
    "        znamka1 = 'B'\n",
    "        stipendium1 = True\n",
    "    else:\n",
    "        znamka1 = 'B'\n",
    "        stipendium1 = False\n",
    "\n",
    "elif sucet_bodov['Julia'] >= 63 and sucet_bodov['Julia'] < 73:\n",
    "    znamka1 = 'C'\n",
    "    stipendium1 = False\n",
    "\n",
    "elif sucet_bodov['Julia'] >= 56 and sucet_bodov['Julia'] < 63:\n",
    "    znamka1 = 'D'\n",
    "    stipendium1 = False\n",
    "\n",
    "else:\n",
    "    znamka1 = 'FX'\n",
    "    stipendium1 = False\n",
    "\n",
    "hodnotenie_Julia = {'Julia' : [znamka1, stipendium1]}\n",
    "print(hodnotenie_Julia)"
   ]
  },
  {
   "cell_type": "code",
   "execution_count": 7,
   "id": "e005783f",
   "metadata": {},
   "outputs": [
    {
     "name": "stdout",
     "output_type": "stream",
     "text": [
      "{'Fero': ['C', False], 'Iveta': ['B', True], 'Adam': ['FX', False], 'Julia': ['B', True]}\n"
     ]
    }
   ],
   "source": [
    "# Jozef riešenie\n",
    "zoznam_studentov = {'Fero': [15,5,8,15,20], 'Iveta': [22,8,9,16,18], 'Adam': [4,5,8,1,5,6], 'Julia': [18,6,9,14,17,20]}\n",
    "\n",
    "#celkovy počet bodov za semester každeho študenta\n",
    "Fero_total_sum=sum(zoznam_studentov[\"Fero\"])\n",
    "Iveta_total_sum=sum(zoznam_studentov[\"Iveta\"])\n",
    "Adam_total_sum=sum(zoznam_studentov[\"Adam\"])\n",
    "Julia_total_sum=sum(zoznam_studentov[\"Julia\"])\n",
    "\n",
    "#priemerny počet bodov na študenta\n",
    "student_average = (Fero_total_sum+Iveta_total_sum+Adam_total_sum+Julia_total_sum)/4\n",
    "\n",
    "###############################\n",
    "#FERO\n",
    "###############################\n",
    "\n",
    "#hodnotenie Fero znamky\n",
    "\n",
    "if Fero_total_sum >= 92 and Fero_total_sum < 100 : Fero_znamka=\"A\"\n",
    "if Fero_total_sum >= 73 and Fero_total_sum < 92 : Fero_znamka=\"B\"\n",
    "if Fero_total_sum >= 63 and Fero_total_sum < 73 : Fero_znamka=\"C\"\n",
    "if Fero_total_sum >= 56 and Fero_total_sum < 63 : Fero_znamka=\"D\"\n",
    "if Fero_total_sum < 56 : Fero_znamka=\"FX\"\n",
    "    \n",
    "#hodnotenie Fero stipko\n",
    "\n",
    "if (Fero_znamka ==\"A\" or Fero_znamka ==\"B\") and zoznam_studentov[\"Fero\"][0] >= 15 : Fero_stipko=True\n",
    "else: Fero_stipko=False\n",
    "    \n",
    "    \n",
    "###############################\n",
    "#Iveta\n",
    "###############################\n",
    "\n",
    "#hodnotenie Iveta znamky\n",
    "\n",
    "if Iveta_total_sum >= 92 and Iveta_total_sum < 100 : Iveta_znamka=\"A\"\n",
    "if Iveta_total_sum >= 73 and Iveta_total_sum < 92 : Iveta_znamka=\"B\"\n",
    "if Iveta_total_sum >= 63 and Iveta_total_sum < 73 : Iveta_znamka=\"C\"\n",
    "if Iveta_total_sum >= 56 and Iveta_total_sum < 63 : Iveta_znamka=\"D\"\n",
    "if Iveta_total_sum < 56 : Iveta_znamka=\"FX\"\n",
    "    \n",
    "#hodnotenie Iveta stipko\n",
    "\n",
    "if (Iveta_znamka ==\"A\" or Iveta_znamka ==\"B\") and zoznam_studentov[\"Iveta\"][0] >= 15 : Iveta_stipko=True\n",
    "else: Iveta_stipko=False\n",
    "\n",
    "###############################\n",
    "#Adam\n",
    "###############################\n",
    "\n",
    "#hodnotenie Adam znamky\n",
    "\n",
    "if Adam_total_sum >= 92 and Adam_total_sum < 100 : Adam_znamka=\"A\"\n",
    "if Adam_total_sum >= 73 and Adam_total_sum < 92 : Adam_znamka=\"B\"\n",
    "if Adam_total_sum >= 63 and Adam_total_sum < 73 : Adam_znamka=\"C\"\n",
    "if Adam_total_sum >= 56 and Adam_total_sum < 63 : Adam_znamka=\"D\"\n",
    "if Adam_total_sum < 56 : Adam_znamka=\"FX\"\n",
    "    \n",
    "#hodnotenie Adam stipko\n",
    "\n",
    "if (Adam_znamka ==\"A\" or Adam_znamka ==\"B\") and zoznam_studentov[\"Adam\"][0] >= 15 : Adam_stipko=True\n",
    "else: Adam_stipko=False\n",
    "\n",
    "    \n",
    "###############################\n",
    "#julia\n",
    "###############################\n",
    "\n",
    "#hodnotenie Julia znamky\n",
    "\n",
    "if Julia_total_sum >= 92 and Julia_total_sum < 100 : Julia_znamka=\"A\"\n",
    "if Julia_total_sum >= 73 and Julia_total_sum < 92 : Julia_znamka=\"B\"\n",
    "if Julia_total_sum >= 63 and Julia_total_sum < 73 : Julia_znamka=\"C\"\n",
    "if Julia_total_sum >= 56 and Julia_total_sum < 63 : Julia_znamka=\"D\"\n",
    "if Julia_total_sum < 56 : Julia_znamka=\"FX\"\n",
    "    \n",
    "#hodnotenie Julia stipko\n",
    "\n",
    "if (Julia_znamka ==\"A\" or Julia_znamka ==\"B\") and zoznam_studentov[\"Julia\"][0] >= 15 : Julia_stipko=True\n",
    "else: Julia_stipko=False\n",
    "    \n",
    "# Hodnotenie\n",
    "zoznam_studentov_hodnotenie = {'Fero': [Fero_znamka,Fero_stipko],\n",
    "                               'Iveta': [Iveta_znamka,Iveta_stipko],\n",
    "                               'Adam': [Adam_znamka,Adam_stipko],\n",
    "                               'Julia': [Julia_znamka,Julia_stipko]}\n",
    "\n",
    "print(zoznam_studentov_hodnotenie)"
   ]
  },
  {
   "cell_type": "code",
   "execution_count": null,
   "id": "be8c2b86",
   "metadata": {},
   "outputs": [],
   "source": []
  }
 ],
 "metadata": {
  "kernelspec": {
   "display_name": "Python 3 (ipykernel)",
   "language": "python",
   "name": "python3"
  },
  "language_info": {
   "codemirror_mode": {
    "name": "ipython",
    "version": 3
   },
   "file_extension": ".py",
   "mimetype": "text/x-python",
   "name": "python",
   "nbconvert_exporter": "python",
   "pygments_lexer": "ipython3",
   "version": "3.9.7"
  }
 },
 "nbformat": 4,
 "nbformat_minor": 5
}
