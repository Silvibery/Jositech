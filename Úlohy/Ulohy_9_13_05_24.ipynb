{
 "cells": [
  {
   "cell_type": "markdown",
   "id": "05fe6153-24bf-4b3c-8ffe-0aa39952da36",
   "metadata": {},
   "source": [
    "BONUS 1 : Faktoriál čísla  𝑛 sa  definuje jako sočin všetkych kladných celých čísel menších nebo rovných  𝑛. Faktorial 0 = 1. Napiš program ktory vypočita faktorial lubobolneho  kladného čísla (0-infinity) . Po napísani programu požiadaj AI o alternativne riešenia a porovnaj. ( použitie matematickej knižnica a vyber funkcie na vypočet faktorialu nebude akceptovane ako validne riešenie)\r\n",
    "a pre y )"
   ]
  },
  {
   "cell_type": "code",
   "execution_count": 5,
   "id": "aeb58aee-ddde-4c9d-9e72-b20cedaef081",
   "metadata": {},
   "outputs": [
    {
     "name": "stdin",
     "output_type": "stream",
     "text": [
      " 6\n"
     ]
    },
    {
     "name": "stdout",
     "output_type": "stream",
     "text": [
      "720\n"
     ]
    }
   ],
   "source": [
    "n = int(input())\n",
    "zmensovatko = n - 1\n",
    "vysledok = n\n",
    "\n",
    "\n",
    "if n == 0:\n",
    "    vysledok = 1\n",
    "else:\n",
    "    while zmensovatko >= 1:\n",
    "        vysledok = vysledok * (n - zmensovatko)\n",
    "        zmensovatko -= 1\n",
    "\n",
    "print(vysledok)\n",
    "\n",
    "    "
   ]
  },
  {
   "cell_type": "code",
   "execution_count": 6,
   "id": "890aaf75-ec26-4826-97b6-ea3fbce70933",
   "metadata": {},
   "outputs": [
    {
     "name": "stdin",
     "output_type": "stream",
     "text": [
      "Enter a number:  5\n"
     ]
    },
    {
     "name": "stdout",
     "output_type": "stream",
     "text": [
      "The factorial of 5 is 120.\n"
     ]
    }
   ],
   "source": [
    "# ChatGPT riesenie:\n",
    "\n",
    "\n",
    "# Iterative Method (factorial_iterative):\n",
    "# This function uses a loop to calculate the factorial by multiplying the result by each number from 1 to n.\n",
    "\n",
    "\n",
    "def factorial_iterative(n):\n",
    "    if n < 0:\n",
    "        return \"Factorial is not defined for negative numbers.\"\n",
    "    result = 1\n",
    "    for i in range(1, n + 1):\n",
    "        result *= i\n",
    "    return result\n",
    "\n",
    "# Input from the user\n",
    "num = int(input(\"Enter a number: \"))\n",
    "print(f\"The factorial of {num} is {factorial_iterative(num)}.\")\n"
   ]
  },
  {
   "cell_type": "code",
   "execution_count": 8,
   "id": "fb2e300b-18d4-42ce-8cf6-41ea0fc34080",
   "metadata": {},
   "outputs": [
    {
     "name": "stdin",
     "output_type": "stream",
     "text": [
      "Enter a number:  6\n"
     ]
    },
    {
     "name": "stdout",
     "output_type": "stream",
     "text": [
      "The factorial of 6 is 720.\n"
     ]
    }
   ],
   "source": [
    "# ChatGPT riesenie:\n",
    "\n",
    "\n",
    "# Recursive Method (factorial_recursive):\n",
    "# This function calls itself to calculate the factorial. The base case is when n is 0 or 1, in which case it returns 1. For any other number, it returns n multiplied by the factorial of n-1.\n",
    "\n",
    "\n",
    "def factorial_recursive(n):\n",
    "    if n < 0:\n",
    "        return \"Factorial is not defined for negative numbers.\"\n",
    "    if n == 0 or n == 1:\n",
    "        return 1\n",
    "    return n * factorial_recursive(n - 1)\n",
    "\n",
    "# Input from the user\n",
    "num = int(input(\"Enter a number: \"))\n",
    "print(f\"The factorial of {num} is {factorial_recursive(num)}.\")\n",
    "\n"
   ]
  },
  {
   "cell_type": "markdown",
   "id": "65892071-7485-48c4-b082-4650fe2dabfa",
   "metadata": {},
   "source": [
    "BONUS 2 : napiš program ktory vypiše prvych n čísel fibonačiho postupnosti (https://cs.wikipedia.org/wiki/Fibonacciho_posloupnost )\n",
    "Image\n",
    "Fibonacciho posloupnost\n",
    "Jako Fibonacciho posloupnost je v matematice označována nekonečná posloupnost přirozených čísel, začínající 0, 1, 1, 2, 3, 5, 8, 13, 21, 34, … (čísla nacházející se ve Fibonacciho posloupnosti jsou někdy nazývána Fibonacciho čísla), kde každé číslo je součtem dvou předchozích. Rekurentní definice Fibonacciho posloupnosti tedy je:\n",
    "\n",
    "\n",
    "\n",
    "..."
   ]
  },
  {
   "cell_type": "code",
   "execution_count": 8,
   "id": "b15da31f-a159-4690-a8bf-6eb46c90e6f5",
   "metadata": {},
   "outputs": [
    {
     "name": "stdin",
     "output_type": "stream",
     "text": [
      " 7\n"
     ]
    },
    {
     "name": "stdout",
     "output_type": "stream",
     "text": [
      "1\n",
      "2\n",
      "3\n",
      "5\n",
      "8\n",
      "13\n",
      "21\n"
     ]
    }
   ],
   "source": [
    "x = 0\n",
    "z = 1\n",
    "n = int(input())\n",
    "\n",
    "\n",
    "\n",
    "while n > 0:\n",
    "    y = x + z\n",
    "    print(y)\n",
    "    n -= 1\n",
    "    \n",
    "    if n == 0:\n",
    "        break\n",
    "        \n",
    "    else: \n",
    "        x = z + y\n",
    "        print(x)\n",
    "        n -= 1\n",
    "\n",
    "    if n == 0:\n",
    "        break\n",
    "\n",
    "    else:\n",
    "        z = x + y\n",
    "        print(z)\n",
    "        n -= 1\n",
    "    "
   ]
  },
  {
   "cell_type": "code",
   "execution_count": 29,
   "id": "8664bb6c-5deb-40d3-bc25-2877e22ff527",
   "metadata": {},
   "outputs": [
    {
     "name": "stdin",
     "output_type": "stream",
     "text": [
      " 6\n"
     ]
    },
    {
     "name": "stdout",
     "output_type": "stream",
     "text": [
      "0\n",
      "1\n",
      "1\n",
      "2\n",
      "3\n",
      "5\n",
      "8\n",
      "13\n"
     ]
    }
   ],
   "source": [
    "# nedokoncene riesenie\n",
    "\n",
    "x = 0\n",
    "z = 1\n",
    "\n",
    "n = int(input())\n",
    "mnozina = range(n//3)\n",
    "\n",
    "Fibonacci = []\n",
    "\n",
    "\n",
    "\n",
    "Fibonacci.append(x)\n",
    "Fibonacci.append(z)\n",
    "\n",
    "for m in mnozina:\n",
    "    y = x + z\n",
    "    Fibonacci.append(y)\n",
    "    x = z + y\n",
    "    Fibonacci.append(x)\n",
    "    z = x + y\n",
    "    Fibonacci.append(z)\n",
    "\n",
    "#print(Fibonacci)\n",
    "\n",
    "for n in Fibonacci:\n",
    "    print(n)\n",
    "\n",
    "\n",
    "\n",
    "\n",
    "\n"
   ]
  },
  {
   "cell_type": "code",
   "execution_count": 17,
   "id": "f10ea0a3-ce04-43d2-b6bc-3816c2225f0b",
   "metadata": {},
   "outputs": [
    {
     "name": "stdin",
     "output_type": "stream",
     "text": [
      " 4\n"
     ]
    },
    {
     "name": "stdout",
     "output_type": "stream",
     "text": [
      "0\n",
      "1\n",
      "False\n"
     ]
    },
    {
     "ename": "TypeError",
     "evalue": "'x' is an invalid keyword argument for print()",
     "output_type": "error",
     "traceback": [
      "\u001b[1;31m---------------------------------------------------------------------------\u001b[0m",
      "\u001b[1;31mTypeError\u001b[0m                                 Traceback (most recent call last)",
      "Cell \u001b[1;32mIn[17], line 8\u001b[0m\n\u001b[0;32m      4\u001b[0m n \u001b[38;5;241m=\u001b[39m \u001b[38;5;28mint\u001b[39m(\u001b[38;5;28minput\u001b[39m())\n\u001b[0;32m      7\u001b[0m tasks1 \u001b[38;5;241m=\u001b[39m [\u001b[38;5;28mprint\u001b[39m(x), \u001b[38;5;28mprint\u001b[39m (z)]\n\u001b[1;32m----> 8\u001b[0m tasks2 \u001b[38;5;241m=\u001b[39m [\u001b[38;5;28mprint\u001b[39m(x \u001b[38;5;241m+\u001b[39m z \u001b[38;5;241m==\u001b[39m y), \u001b[38;5;28mprint\u001b[39m(x \u001b[38;5;241m=\u001b[39m z \u001b[38;5;241m+\u001b[39m y), \u001b[38;5;28mprint\u001b[39m(z \u001b[38;5;241m=\u001b[39m x \u001b[38;5;241m+\u001b[39m y)]\n\u001b[0;32m     10\u001b[0m \u001b[38;5;28;01mfor\u001b[39;00m task \u001b[38;5;129;01min\u001b[39;00m tasks1:\n\u001b[0;32m     11\u001b[0m     n \u001b[38;5;241m+\u001b[39m\u001b[38;5;241m=\u001b[39m \u001b[38;5;241m1\u001b[39m\n",
      "\u001b[1;31mTypeError\u001b[0m: 'x' is an invalid keyword argument for print()"
     ]
    }
   ],
   "source": [
    "x = 0\n",
    "z = 1\n",
    "\n",
    "n = int(input())\n",
    "\n",
    "\n",
    "\n",
    "\n",
    "    \n",
    "\n",
    "\n"
   ]
  },
  {
   "cell_type": "markdown",
   "id": "0ebe6f26-540c-4d9a-9ec7-ddcb56557962",
   "metadata": {},
   "source": [
    "BONUS 3: takto vygenerovane čísla vykresli do grafu kde na X osi budu indexi n a na y osi bude fibonačiho číslo  ( hint musiš si vygenerovat listy pre x a pre y )"
   ]
  },
  {
   "cell_type": "code",
   "execution_count": 10,
   "id": "fa4fecbe-886e-4cb9-82d1-b583f754974e",
   "metadata": {},
   "outputs": [
    {
     "name": "stdin",
     "output_type": "stream",
     "text": [
      " 10\n"
     ]
    },
    {
     "name": "stdout",
     "output_type": "stream",
     "text": [
      "1\n",
      "2\n",
      "3\n",
      "5\n",
      "8\n",
      "13\n",
      "21\n",
      "34\n",
      "55\n",
      "89\n"
     ]
    },
    {
     "data": {
      "text/plain": [
       "<function matplotlib.pyplot.show(close=None, block=None)>"
      ]
     },
     "execution_count": 10,
     "metadata": {},
     "output_type": "execute_result"
    },
    {
     "data": {
      "image/png": "[encoded data removed]",
      "text/plain": [
       "<Figure size 640x480 with 1 Axes>"
      ]
     },
     "metadata": {},
     "output_type": "display_data"
    }
   ],
   "source": [
    "import matplotlib.pyplot as plt\n",
    "\n",
    "x = 0\n",
    "z = 1\n",
    "n = int(input())\n",
    "\n",
    "list_x = []\n",
    "list_y = []\n",
    "\n",
    "\n",
    "\n",
    "while n > 0:\n",
    "    y = x + z\n",
    "    print(y)\n",
    "    list_x.append(n)\n",
    "    list_y.append(y)\n",
    "    n -= 1\n",
    "    \n",
    "    if n == 0:\n",
    "        break\n",
    "        \n",
    "    else: \n",
    "        x = z + y\n",
    "        print(x)\n",
    "        list_x.append(n)\n",
    "        list_y.append(x)\n",
    "        n -= 1\n",
    "\n",
    "    if n == 0:\n",
    "        break\n",
    "\n",
    "    else:\n",
    "        z = x + y\n",
    "        print(z)\n",
    "        list_x.append(n)\n",
    "        list_y.append(z)\n",
    "        n -= 1\n",
    "\n",
    "#print(list_x, list_y)\n",
    "\n",
    "list_x.reverse()\n",
    "\n",
    "plt.plot(list_x, list_y)\n",
    "plt.show\n",
    "\n",
    "\n"
   ]
  }
 ],
 "metadata": {
  "kernelspec": {
   "display_name": "Python 3 (ipykernel)",
   "language": "python",
   "name": "python3"
  },
  "language_info": {
   "codemirror_mode": {
    "name": "ipython",
    "version": 3
   },
   "file_extension": ".py",
   "mimetype": "text/x-python",
   "name": "python",
   "nbconvert_exporter": "python",
   "pygments_lexer": "ipython3",
   "version": "3.11.7"
  }
 },
 "nbformat": 4,
 "nbformat_minor": 5
}
