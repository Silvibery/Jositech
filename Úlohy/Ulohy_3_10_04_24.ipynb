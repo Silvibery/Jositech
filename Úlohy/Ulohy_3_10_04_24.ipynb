{
 "cells": [
  {
   "cell_type": "markdown",
   "id": "067d9599-3d70-43e0-995b-20e4d93492aa",
   "metadata": {},
   "source": [
    "# Ulohy_3_10_04_24"
   ]
  },
  {
   "cell_type": "code",
   "execution_count": 4,
   "id": "b3462e6d-6943-4598-a71a-b7fa53eb90ae",
   "metadata": {},
   "outputs": [],
   "source": [
    "lst1 = [8, 2, 9, 3, 7]\n",
    "lst2 = ['A', 'P', 'B', 'Q', 'C', 'D']\n",
    "lst3 = [10, 20, [300, 400, [5000, 6000], 500], 30, 40]\n",
    "lst4 = [1, 5, 2, 4, 8, 5, 1, 1, 4, 8, 5, 6]\n",
    "lst5 = [9, 2, 8, 7, 3]\n",
    "lst6 = [8, 7, 9, 8, 2]"
   ]
  },
  {
   "cell_type": "markdown",
   "id": "67bd8544-e185-4d98-86d7-d391ada7a11f",
   "metadata": {},
   "source": [
    "### Úloha 1"
   ]
  },
  {
   "cell_type": "code",
   "execution_count": 5,
   "id": "a7e2ae39-e6ca-4cb7-876c-46d6e9dd91bb",
   "metadata": {},
   "outputs": [
    {
     "name": "stdout",
     "output_type": "stream",
     "text": [
      "29\n"
     ]
    }
   ],
   "source": [
    "print(sum(lst1))"
   ]
  },
  {
   "cell_type": "markdown",
   "id": "88628027-d482-4813-b32d-dc1e7fa00de8",
   "metadata": {},
   "source": [
    "### Úloha 2"
   ]
  },
  {
   "cell_type": "code",
   "execution_count": 6,
   "id": "d11b13cf-e58a-4cf4-9c76-54e75dd94306",
   "metadata": {},
   "outputs": [
    {
     "name": "stdout",
     "output_type": "stream",
     "text": [
      "2\n"
     ]
    }
   ],
   "source": [
    "print(lst2.index('B'))"
   ]
  },
  {
   "cell_type": "markdown",
   "id": "9bb245f7-1d01-42dc-9744-6d1acd213081",
   "metadata": {},
   "source": [
    "### Úloha 3\n",
    "\n",
    ". napíš program ktorý prída hondotu 7000 za hodnotu 6000v lst3. Teda\r\n",
    "vysledok bude lst3 = [10, 20, [300, 400, [5000, 6000, 7000], 500], 30, 40]"
   ]
  },
  {
   "cell_type": "code",
   "execution_count": 19,
   "id": "b45ae80f-e23d-48a3-a2ee-ade07f5212fc",
   "metadata": {},
   "outputs": [
    {
     "name": "stdout",
     "output_type": "stream",
     "text": [
      "[10, 20, [300, 400, [5000, 6000, 7000], 500], 30, 40]\n"
     ]
    }
   ],
   "source": [
    "lst3[2][2].extend([7000])\n",
    "print(lst3)"
   ]
  },
  {
   "cell_type": "markdown",
   "id": "a9da15b1-673a-45a1-a50b-58eef5bf70e4",
   "metadata": {},
   "source": [
    "### Úloha 4\n",
    "\n",
    " Napíš program ktorý odstráni duplikáty z listu lst4"
   ]
  },
  {
   "cell_type": "code",
   "execution_count": 6,
   "id": "b8fa038e-ce71-4901-85ec-3a726619889e",
   "metadata": {},
   "outputs": [
    {
     "name": "stdout",
     "output_type": "stream",
     "text": [
      "{1, 2, 4, 5, 6, 8}\n"
     ]
    }
   ],
   "source": [
    "lst4_set = set(lst4)\n",
    "print(lst4_set)"
   ]
  },
  {
   "cell_type": "markdown",
   "id": "ac3afefa-236c-40ae-9bea-c9537521fd66",
   "metadata": {},
   "source": [
    "### Úloha 5\n",
    "Aká je úloha nasledujúceho kódu?\r\n",
    "list_a = [1, 2, 3, 4, 5]\r\n",
    "list_b = [3, 4, 5, 6, 7]\r\n",
    "common = list(set(list_a) & set(list_b))\r\n",
    "print(common)\r"
   ]
  },
  {
   "cell_type": "code",
   "execution_count": 8,
   "id": "8e240456-ba91-4f17-8eb3-f03be6f1543e",
   "metadata": {},
   "outputs": [
    {
     "name": "stdout",
     "output_type": "stream",
     "text": [
      "[3, 4, 5]\n"
     ]
    }
   ],
   "source": [
    "list_a = [1, 2, 3, 4, 5]\n",
    "list_b = [3, 4, 5, 6, 7]\n",
    "\n",
    "common = list(set(list_a) & set(list_b))\n",
    "print(common)"
   ]
  },
  {
   "cell_type": "markdown",
   "id": "0cd3a761-5572-430d-9b30-977b63e4f310",
   "metadata": {},
   "source": [
    "Tento kód vyberie prienik jedinečných objektov v listoch."
   ]
  },
  {
   "cell_type": "markdown",
   "id": "abc38fea-0ec1-4c26-9cbe-84f2d6e39270",
   "metadata": {},
   "source": [
    "### Úloha 8\n",
    "\n",
    "8. listy lst1, lst5 a lst6 usporiadaj od najmenšieho po najvačiu hodnotu.\r\n",
    "Následne napíš program s využitím IF Else ktorý zisti či sú dva listy\r\n",
    "zhodné a vypíše tútu informáciu."
   ]
  },
  {
   "cell_type": "code",
   "execution_count": 6,
   "id": "224836b2-7c7d-4cc5-ab59-a0a02c656767",
   "metadata": {},
   "outputs": [
    {
     "name": "stdout",
     "output_type": "stream",
     "text": [
      "[2, 3, 7, 8, 9] [2, 3, 7, 8, 9] [2, 7, 8, 8, 9]\n",
      "lst1 je zhodný s lst5\n"
     ]
    }
   ],
   "source": [
    "lst1.sort()\n",
    "lst5.sort()\n",
    "lst6.sort()\n",
    "print(lst1, lst5, lst6)\n",
    "\n",
    "if lst1 == lst5:\n",
    "    print('lst1 je zhodný s lst5')\n",
    "\n",
    "elif lst1 == lst6:\n",
    "    print('lst1 je zhodný s lst6')\n",
    "\n",
    "elif lst5 == lst6:\n",
    "    print('lst5 je zhodný s lst6')\n",
    "\n",
    "else:\n",
    "    print('žiadny z listov sa nezhoduje')"
   ]
  },
  {
   "cell_type": "markdown",
   "id": "d30fd53b-00b5-43cc-a052-47ee50005be8",
   "metadata": {},
   "source": [
    "### Úloha 9\n",
    "\n",
    "9. Vytvor dictionary kde key budú názvy krajín a value bude tuple obsahujúci\r\n",
    "hlavné mesto a počet obyvatteľov\r\n",
    "Table 1:\r\n",
    "Country Capital Population (millions)\r\n",
    "United States Washington D.C. 331.4\r\n",
    "China Beijing 1439.3\r\n",
    "India New Delhi 1380.0\r\n",
    "Brazil Brasília 213.4\n"
   ]
  },
  {
   "cell_type": "code",
   "execution_count": 2,
   "id": "80c2efdb-f8ce-4bf8-98fe-53644c335ac3",
   "metadata": {},
   "outputs": [],
   "source": [
    "urban = {'United States' : ('Washington D.C.', 331.4), 'China' : ('Beijing', 1439.3), 'India' : ('New Delhi', 1380.0), 'Brazil' : ('Brasília', 213.4)}"
   ]
  },
  {
   "cell_type": "code",
   "execution_count": 9,
   "id": "99b297d7-03f2-44db-8597-c2e7d90d218d",
   "metadata": {},
   "outputs": [
    {
     "data": {
      "text/plain": [
       "('Brasília', 213.4)"
      ]
     },
     "execution_count": 9,
     "metadata": {},
     "output_type": "execute_result"
    }
   ],
   "source": [
    "urban['Brazil']"
   ]
  },
  {
   "cell_type": "code",
   "execution_count": 11,
   "id": "77449d21-5c87-47c4-be47-74825e173447",
   "metadata": {},
   "outputs": [
    {
     "data": {
      "text/plain": [
       "4"
      ]
     },
     "execution_count": 11,
     "metadata": {},
     "output_type": "execute_result"
    }
   ],
   "source": [
    "len(urban)"
   ]
  },
  {
   "cell_type": "code",
   "execution_count": 19,
   "id": "2ca1fb74-2e3f-406e-89c9-7aa350380aff",
   "metadata": {},
   "outputs": [
    {
     "name": "stdout",
     "output_type": "stream",
     "text": [
      "{'United States': ('Washington D.C.', 331.4), 'China': ('Beijing', 1439.3), 'India': ('New Delhi', 1380.0), 'Brazil': ('Brasília', 213.4), 'Slovakia': ('Bratislava', 5.5)}\n"
     ]
    }
   ],
   "source": [
    "urban['Slovakia'] = ('Bratislava', 5.5)\n",
    "print(urban)"
   ]
  },
  {
   "cell_type": "code",
   "execution_count": 20,
   "id": "7d0390b6-4a44-4f96-aca9-666ac9920007",
   "metadata": {},
   "outputs": [
    {
     "name": "stdout",
     "output_type": "stream",
     "text": [
      "('Bratislava', 5.5)\n",
      "{'United States': ('Washington D.C.', 331.4), 'China': ('Beijing', 1439.3), 'India': ('New Delhi', 1380.0), 'Brazil': ('Brasília', 213.4)}\n"
     ]
    }
   ],
   "source": [
    "print(urban.pop('Slovakia'))\n",
    "print(urban)"
   ]
  },
  {
   "cell_type": "code",
   "execution_count": 24,
   "id": "38925cbc-53b3-452b-b130-bf81670b4493",
   "metadata": {},
   "outputs": [
    {
     "name": "stdout",
     "output_type": "stream",
     "text": [
      "{'United States': ('Washington D.C.', 331.4), 'China': ('Beijing', 1439.3), 'India': ('New Delhi', 1380.0), 'Brazil': ('Brasília', 213.4)}\n"
     ]
    }
   ],
   "source": [
    "urban.get('Czech Republic')\n",
    "urban.get('United States')\n",
    "print(urban)"
   ]
  },
  {
   "cell_type": "code",
   "execution_count": 27,
   "id": "abeb88f1-7fdb-4f14-aec2-8168abe7ce5a",
   "metadata": {},
   "outputs": [
    {
     "data": {
      "text/plain": [
       "dict_values([('Washington D.C.', 331.4), ('Beijing', 1439.3), ('New Delhi', 1380.0), ('Brasília', 213.4)])"
      ]
     },
     "execution_count": 27,
     "metadata": {},
     "output_type": "execute_result"
    }
   ],
   "source": [
    "urban.values()\n",
    "    "
   ]
  },
  {
   "cell_type": "code",
   "execution_count": 28,
   "id": "2eeec490-8cfc-4ae2-aca6-d6ff884a58ab",
   "metadata": {},
   "outputs": [
    {
     "data": {
      "text/plain": [
       "dict_keys(['United States', 'China', 'India', 'Brazil'])"
      ]
     },
     "execution_count": 28,
     "metadata": {},
     "output_type": "execute_result"
    }
   ],
   "source": [
    "urban.keys()\n"
   ]
  },
  {
   "cell_type": "code",
   "execution_count": 3,
   "id": "52f1f73e-88ac-4c2b-86f2-c386398fcfad",
   "metadata": {},
   "outputs": [
    {
     "data": {
      "text/plain": [
       "dict_items([('United States', ('Washington D.C.', 331.4)), ('China', ('Beijing', 1439.3)), ('India', ('New Delhi', 1380.0)), ('Brazil', ('Brasília', 213.4))])"
      ]
     },
     "execution_count": 3,
     "metadata": {},
     "output_type": "execute_result"
    }
   ],
   "source": [
    "urban.items()"
   ]
  },
  {
   "cell_type": "markdown",
   "id": "b8e4c889-99f3-40f4-84af-46f7744cb962",
   "metadata": {},
   "source": [
    "### Úloha 10\n",
    ". Čo robí daný kód? dict() je tzv. constructor2\r\n",
    "osoba = dict(name = \"Silvia\", age = 33, state = \"SK\", property = 'šikovná')\r\n",
    "print(thisdict)\r"
   ]
  },
  {
   "cell_type": "code",
   "execution_count": 5,
   "id": "b2fa51e7-b30a-4e49-a941-c2a60dc4b596",
   "metadata": {},
   "outputs": [
    {
     "name": "stdout",
     "output_type": "stream",
     "text": [
      "{'name': 'Silvia', 'age': 33, 'state': 'SK', 'property': 'šikovná'}\n"
     ]
    }
   ],
   "source": [
    "osoba = dict(name = \"Silvia\", age = 33, state = \"SK\", property = 'šikovná')\n",
    "print(osoba)"
   ]
  },
  {
   "cell_type": "markdown",
   "id": "992b7b58-b727-4ba6-8abb-b2159f6e1ca2",
   "metadata": {},
   "source": [
    "Tento kód vytvorí dictionary spárovaním zadaných hodnôt systémom key : value."
   ]
  },
  {
   "cell_type": "markdown",
   "id": "795d74b8-218e-4833-86d6-84b0edac2536",
   "metadata": {},
   "source": [
    "### Úloha 11\n",
    "\n",
    "Vytvor nový tuple s hodnotami 1,5,8,’Silvia’ a skonvertuj ho na list"
   ]
  },
  {
   "cell_type": "code",
   "execution_count": 6,
   "id": "b8a77272-2cf1-4d83-9978-736ef456c79d",
   "metadata": {},
   "outputs": [
    {
     "name": "stdout",
     "output_type": "stream",
     "text": [
      "(1, 5, 8, 'Silvia')\n"
     ]
    }
   ],
   "source": [
    "new_tuple = (1, 5, 8, 'Silvia')\n",
    "print(new_tuple)"
   ]
  },
  {
   "cell_type": "markdown",
   "id": "f97f2741-fa1f-4240-b17a-151b20ef1184",
   "metadata": {},
   "source": [
    "### Úloha 12\n",
    "\n",
    "Napísať program, ktorý zistí, či je dané číslo párne alebo nepárne. Použi\r\n",
    "funkciu input(), ošetri aby čislo bolo int.\r"
   ]
  },
  {
   "cell_type": "code",
   "execution_count": 9,
   "id": "f14d8fad-028b-460a-98e5-b0103540ec15",
   "metadata": {},
   "outputs": [
    {
     "name": "stdin",
     "output_type": "stream",
     "text": [
      "Moje číslo  4\n"
     ]
    },
    {
     "name": "stdout",
     "output_type": "stream",
     "text": [
      "je párne\n"
     ]
    }
   ],
   "source": [
    "cislo = int(input('Moje číslo '))\n",
    "\n",
    "if cislo % 2 == 0:\n",
    "    print('je párne')\n",
    "\n",
    "else:\n",
    "    print('je nepárne')\n"
   ]
  },
  {
   "cell_type": "markdown",
   "id": "e75294f5-d93b-492f-818b-947370fb9e07",
   "metadata": {},
   "source": [
    "### Úloha 13\n",
    "\n",
    "Napíš program program, ktorý analyzuje typ vozidla na základe počtu\r\n",
    "kolies a typu pohonu.<br>  povolené vstupy su počet kolies 2,3,4 a pohon\r\n",
    "motor alebo noh <br>y. Možné druhy vozidla, auto, motorka, bycikel,\r\n",
    "thule kočia<br> r. Ak žiadna kombinácia nezodpovedá, vráti sa správa \"Neznámy\r\n",
    "typ vozidl<br>a\". Na zadávanie vstupov použi input(). Využy príkaz Match\r\n",
    "Príklad tu."
   ]
  },
  {
   "cell_type": "code",
   "execution_count": 12,
   "id": "c4ebf952-a002-4351-9ec3-1eb9df44ef95",
   "metadata": {},
   "outputs": [
    {
     "name": "stdout",
     "output_type": "stream",
     "text": [
      "Toto je motorka\n"
     ]
    }
   ],
   "source": [
    "features = [2, 'motor'] #prerob na input\n",
    "\n",
    "match features:\n",
    "    case[2, 'motor']:\n",
    "        print('Toto je motorka')\n",
    "    case[2, 'nohy']:\n",
    "        print('Toto je bicykel')\n",
    "    case[3, 'motor']:\n",
    "        print('Toto je motorizovany Thule kočiar')\n",
    "    case[3, 'nohy']:\n",
    "        print('Toto je Thule kočiar')    \n",
    "    case[4, 'motor']:\n",
    "        print('Toto je auto')\n",
    "    case[4, 'nohy']:\n",
    "        print('Toto je Flinstone auto')\n"
   ]
  },
  {
   "cell_type": "markdown",
   "id": "8803f1f8-dfe0-4ef4-bf88-5b0b2f184523",
   "metadata": {},
   "source": [
    "ChatGPT korekcia pre branie vstupu od užívateľa:"
   ]
  },
  {
   "cell_type": "code",
   "execution_count": 6,
   "id": "2b0bc99a-78f6-4ea4-85a8-77f8039a5b87",
   "metadata": {},
   "outputs": [
    {
     "name": "stdin",
     "output_type": "stream",
     "text": [
      "Enter feature 1:  3\n",
      "Enter feature 2:  nohy\n"
     ]
    },
    {
     "name": "stdout",
     "output_type": "stream",
     "text": [
      "Toto je Thule kočiar\n"
     ]
    }
   ],
   "source": [
    "# Function to get user input for features\n",
    "def get_features():\n",
    "    feature1 = int(input(\"Enter feature 1: \"))\n",
    "    feature2 = input(\"Enter feature 2: \")\n",
    "    return [feature1, feature2]\n",
    "\n",
    "# Get user input for features\n",
    "features = get_features()\n",
    "\n",
    "# Match the features\n",
    "match features:\n",
    "    case [2, 'motor']:\n",
    "        print('Toto je motorka')\n",
    "    case [2, 'nohy']:\n",
    "        print('Toto je bicykel')\n",
    "    case [3, 'motor']:\n",
    "        print('Toto je motorizovany Thule kočiar')\n",
    "    case [3, 'nohy']:\n",
    "        print('Toto je Thule kočiar')\n",
    "    case [4, 'motor']:\n",
    "        print('Toto je auto')\n",
    "    case [4, 'nohy']:\n",
    "        print('Toto je Flinstone auto')"
   ]
  },
  {
   "cell_type": "markdown",
   "id": "f96eedf3-d853-45c2-a899-82fc97e99c4e",
   "metadata": {},
   "source": [
    "### Úloha 14\n",
    "Predpokladajme, že máme premenné den (PO, UT,ST,STV,PI,SO,NE)\r\n",
    "a pocet hodin (1-12) zadaj cez input, ktoré predstavujú deň v týždni a\r\n",
    "počet hodín, ktoré sme pracovali. Chceme vypísať správu podľa toho, či\r\n",
    "je víkend alebo pracovný deň a podľa toho, či sme pracovali viac ako 8\r\n",
    "hodín.AK:\r\n",
    "• SO alebo NE zamestannec pracoval vypiš \" \"Je víkend, ale ste pracovali\r\n",
    "dostanete Diplom.\"\r\n",
    "• SO alebo NE zamestannec nepracoval vypiš \" \"Je víkend a nepracujete.\"\r\n",
    "• pracovny deň zamestannec nepracoval vypiš \" \"Je pracovný deň a\r\n",
    "nepracujete hlaste sa u Čekana.\"\r\n",
    "• pracovny deň zamestannec pracoval viac ako 8 hodin \"Ej ci pana ty\r\n",
    "si ale pracovity\"\r\n",
    "• pracovny deň zamestannec pracoval menej ako 8 hodin \"Budeš si to\r\n",
    "musiet odrobit\"\r"
   ]
  },
  {
   "cell_type": "markdown",
   "id": "945c55fb-442e-4e75-9b7e-f451f06ecfad",
   "metadata": {},
   "source": [
    "Toto sú moje dve riešenia, nad ktorýmy som si lámala hlavu a prehadzovala ify a opakovane testovala."
   ]
  },
  {
   "cell_type": "code",
   "execution_count": 1,
   "id": "4fe0e45b-fb27-4cba-80a0-ec477a73a2f4",
   "metadata": {},
   "outputs": [
    {
     "name": "stdin",
     "output_type": "stream",
     "text": [
      "deň:  NE\n",
      "hodiny:  0\n"
     ]
    },
    {
     "name": "stdout",
     "output_type": "stream",
     "text": [
      "Je pracovný deň a nepracujete hlaste sa u Čekana.\n"
     ]
    }
   ],
   "source": [
    "den = input('deň: ')\n",
    "hodiny = int(input('hodiny: '))\n",
    "\n",
    "if (den == 'PO' or 'UT' or 'ST' or 'STV' or 'PI') and (hodiny == 0):\n",
    "    print('Je pracovný deň a nepracujete hlaste sa u Čekana.')\n",
    "\n",
    "elif (den == 'PO' or 'UT' or 'ST' or 'STV' or 'PI') and (hodiny <= 7):\n",
    "    print('Budeš si to musiet odrobit')\n",
    "    \n",
    "elif (den == 'PO' or 'UT' or 'ST' or 'STV' or 'PI') and (hodiny >= 8):\n",
    "    print ('Ej ci pana ty si ale pracovity')\n",
    "\n",
    "elif (den == 'SO' or 'NE') and (hodiny != 0):\n",
    "    print('Je víkend, ale ste pracovali dostanete Diplom')\n",
    "    \n",
    "elif (den == 'SO' or 'NE') and (hodiny == 0):\n",
    "    print('Je víkend a nepracujete')  \n",
    "\n",
    "else:\n",
    "    print('nespravny input')\n",
    "\n",
    "    "
   ]
  },
  {
   "cell_type": "code",
   "execution_count": 10,
   "id": "bdbd1a38-9cb4-4d79-8925-22e9f4032863",
   "metadata": {},
   "outputs": [
    {
     "name": "stdin",
     "output_type": "stream",
     "text": [
      "deň:  SO\n",
      "hodiny:  0\n"
     ]
    },
    {
     "name": "stdout",
     "output_type": "stream",
     "text": [
      "Je pracovný deň a nepracujete hlaste sa u Čekana.\n"
     ]
    }
   ],
   "source": [
    "den = input('deň: ')\n",
    "hodiny = int(input('hodiny: '))\n",
    "\n",
    "if (den != 'SO' or 'NE') and (hodiny == 0):\n",
    "    print('Je pracovný deň a nepracujete hlaste sa u Čekana.')\n",
    "\n",
    "elif (den != 'SO' or 'NE') and (hodiny <= 7):\n",
    "    print('Budeš si to musiet odrobit')\n",
    "    \n",
    "elif (den != 'SO' or 'NE') and (hodiny >= 8):\n",
    "    print ('Ej ci pana ty si ale pracovity')\n",
    "\n",
    "elif (den == 'SO' or 'NE') and (hodiny != 0):\n",
    "    print('Je víkend, ale ste pracovali dostanete Diplom')\n",
    "    \n",
    "elif (den == 'SO' or 'NE') and (hodiny == 0):\n",
    "    print('Je víkend a nepracujete')  \n",
    "\n",
    "else:\n",
    "    print('nespravny input')\n"
   ]
  },
  {
   "cell_type": "markdown",
   "id": "b3017309-133b-433d-8ccb-b1e1c3334e58",
   "metadata": {},
   "source": [
    "Tu je vysvetlenie a riešenie od chatGPT:\n",
    "'Certainly! Your code has a logical issue in the condition checks. When you write (den == 'PO' or 'UT' or 'ST' or 'STV' or 'PI'), it doesn't check if den is equal to any of those values individually. Instead, it checks if den == 'PO', and if that's not true, it evaluates 'UT', which is always true because it's a non-empty string, hence, the condition will always be true.'"
   ]
  },
  {
   "cell_type": "code",
   "execution_count": 4,
   "id": "6263af17-b3a2-4e89-92b9-ab8ade9169d5",
   "metadata": {},
   "outputs": [
    {
     "name": "stdin",
     "output_type": "stream",
     "text": [
      "deň:  PO\n",
      "hodiny:  4\n"
     ]
    },
    {
     "name": "stdout",
     "output_type": "stream",
     "text": [
      "Budeš si to musiet odrobit\n"
     ]
    }
   ],
   "source": [
    "den = input('deň: ')\n",
    "hodiny = int(input('hodiny: '))\n",
    "\n",
    "if den in ['PO', 'UT', 'ST', 'STV', 'PI']:\n",
    "    if hodiny == 0:\n",
    "        print('Je pracovný deň a nepracujete hlaste sa u Čekana.')\n",
    "    elif hodiny <= 7:\n",
    "        print('Budeš si to musiet odrobit')\n",
    "    else:\n",
    "        print('Ej ci pana ty si ale pracovity')\n",
    "elif den in ['SO', 'NE']:\n",
    "    if hodiny != 0:\n",
    "        print('Je víkend, ale ste pracovali dostanete Diplom')\n",
    "    else:\n",
    "        print('Je víkend a nepracujete')\n",
    "else:\n",
    "    print('nespravny input')\n"
   ]
  }
 ],
 "metadata": {
  "kernelspec": {
   "display_name": "Python 3 (ipykernel)",
   "language": "python",
   "name": "python3"
  },
  "language_info": {
   "codemirror_mode": {
    "name": "ipython",
    "version": 3
   },
   "file_extension": ".py",
   "mimetype": "text/x-python",
   "name": "python",
   "nbconvert_exporter": "python",
   "pygments_lexer": "ipython3",
   "version": "3.11.7"
  }
 },
 "nbformat": 4,
 "nbformat_minor": 5
}
