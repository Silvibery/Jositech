{
 "cells": [
  {
   "cell_type": "markdown",
   "id": "31a4c075-f0ed-4590-969c-90977b0c38af",
   "metadata": {},
   "source": [
    "Bonusova uloha aby sme neochladli  napiš program ktory vezme retazec znakov a prepiše ho tak že každy znak bude v novom riadku o jedno miesto posunuty voči predošlemu znaku. Prazdne miesta budu vyplnene hviezdičkou z oboch stran. Vid priklad: \r\n",
    "#Vstup\r\n",
    "text=Silvia\r\n",
    "\r\n",
    "#Vystup\r\n",
    "S*****\r\n",
    "*i****\r\n",
    "**l***\r\n",
    "***v**\r\n",
    "****i*\r\n",
    "*****a"
   ]
  },
  {
   "cell_type": "code",
   "execution_count": 5,
   "id": "9ba1c9cf-ce4a-461b-86d5-5b684c556606",
   "metadata": {},
   "outputs": [
    {
     "name": "stdout",
     "output_type": "stream",
     "text": [
      "D*************\n",
      "*o************\n",
      "**b***********\n",
      "***r**********\n",
      "****e*********\n",
      "***** ********\n",
      "******J*******\n",
      "*******o******\n",
      "********z*****\n",
      "*********i****\n",
      "**********n***\n",
      "***********k**\n",
      "************o*\n"
     ]
    }
   ],
   "source": [
    "text = 'Dobre Jozinko'\n",
    "\n",
    "len(text)\n",
    "\n",
    "poradie = 0\n",
    "\n",
    "for pismenko in text:\n",
    "    print('*' * poradie + pismenko + '*' * (len(text) - poradie))\n",
    "    poradie += 1\n",
    "    "
   ]
  }
 ],
 "metadata": {
  "kernelspec": {
   "display_name": "Python 3 (ipykernel)",
   "language": "python",
   "name": "python3"
  },
  "language_info": {
   "codemirror_mode": {
    "name": "ipython",
    "version": 3
   },
   "file_extension": ".py",
   "mimetype": "text/x-python",
   "name": "python",
   "nbconvert_exporter": "python",
   "pygments_lexer": "ipython3",
   "version": "3.11.7"
  }
 },
 "nbformat": 4,
 "nbformat_minor": 5
}
