{
 "cells": [
  {
   "cell_type": "code",
   "execution_count": 1,
   "id": "f98082df-a391-4bb2-a709-11ead24b372d",
   "metadata": {},
   "outputs": [
    {
     "name": "stdout",
     "output_type": "stream",
     "text": [
      "Zleteli orly z Tatry, tiahnu na podolia,\n",
      "ponad vysoké hory, ponad rovné polia,\n",
      "preleteli cez Dunaj, cez tú šíru vodu,\n",
      "sadli tam za pomedzím slovenského rodu.\n"
     ]
    }
   ],
   "source": [
    "s1 = 'Ahoj Silvia, toto je text'\n",
    "\n",
    "# newline je určená znakom '\\n'\n",
    "# pre prehľadnosť dlhého stringu sa robí rozpis do viacerých riadkov pomocou symbolu '\\'\n",
    "\n",
    "s2 = '\\\n",
    "Zleteli orly z Tatry, tiahnu na podolia,\\n\\\n",
    "ponad vysoké hory, ponad rovné polia,\\n\\\n",
    "preleteli cez Dunaj, cez tú šíru vodu,\\n\\\n",
    "sadli tam za pomedzím slovenského rodu.'\n",
    "s3 = 'adccochdhoochahodhaodadohccchoodcchaadchadhcchohhcchooodacohdha'\n",
    "s4 = 'JhonDipPeta'\n",
    "s5 = 'JaSonAy'\n",
    "s6 = 'Kde bolo tam Bolo. Keby bolo alebo nebolo. Bolo by Bolobo.'\n",
    "\n",
    "print(s2) #kontrola"
   ]
  },
  {
   "cell_type": "markdown",
   "id": "ebed30c8-43fd-440f-b813-2910b765b01c",
   "metadata": {},
   "source": [
    "## Úloha 1. \n",
    "Pri vytvarane premennje s2 nezabudni že musiš vytvoriť aj nove riadky. Ako vytvoriš novy riadok v stringu <br> <br>\n",
    "Nový riadok pomocou: '\\n' <br>\n",
    "Rozdelenie stringu do viacerých riadkov v samotnom kóde: ' \\ '. <br>"
   ]
  },
  {
   "cell_type": "markdown",
   "id": "1f21094a-04e7-4e73-a38a-85e17869bc26",
   "metadata": {},
   "source": [
    "## Úloha 2.\n",
    "Vytvor premennu s1_reverse ktora bude obsahovat s1 v obrátenom \n",
    "poradí. Otestuj funkciu reversed() ale aj prístup pomocou slicing."
   ]
  },
  {
   "cell_type": "code",
   "execution_count": 32,
   "id": "0145df2d-a99a-4e73-92e4-13f218fe18fd",
   "metadata": {},
   "outputs": [
    {
     "name": "stdout",
     "output_type": "stream",
     "text": [
      "txet ej otot ,aivliS johA\n",
      "<reversed object at 0x0000017CEE714160>\n",
      "['t', 'x', 'e', 't', ' ', 'e', 'j', ' ', 'o', 't', 'o', 't', ' ', ',', 'a', 'i', 'v', 'l', 'i', 'S', ' ', 'j', 'o', 'h', 'A']\n"
     ]
    }
   ],
   "source": [
    "s1_reverse = print(s1[-1::-1]) # slicing method\n",
    "s1_reverseb = reversed(s1) #asi nefunguje v jupyteri?\n",
    "print(s1_reverseb) \n",
    "print(list(reversed(s1))) # ale funguje takto"
   ]
  },
  {
   "cell_type": "markdown",
   "id": "05f62d4a-89b9-4d6d-9a99-6a1310ff7217",
   "metadata": {},
   "source": [
    "## Úloha 3.\n",
    "Vytvor premennu s1_reverse2 ktora bude obsahovat posledných 10 znakov s1 v obrátenom poradí. Vieš spraviť aj poslednych 10 znakov okrem uplne posledného ?<br> <br>\n",
    "Najskôr si zistím dĺžku stringu, aby som vedela indexovať. Číslo 14 je 15. znak v stringu, kvôli indexovaniu od 0."
   ]
  },
  {
   "cell_type": "code",
   "execution_count": 12,
   "id": "bcf0e370-08f2-474d-84af-3f31329f4774",
   "metadata": {},
   "outputs": [
    {
     "name": "stdout",
     "output_type": "stream",
     "text": [
      "25\n",
      "txet ej o\n",
      "oto je tex\n",
      "oto je tex\n"
     ]
    }
   ],
   "source": [
    "print(len(s1))\n",
    "s1_reverse2 = print(s1[-1:-10:-1])\n",
    "s1_end = print(s1[14:24:1]) # prístup z predu\n",
    "s1_end2 = print(s1[-11:-1:1]) # prístup zozadu"
   ]
  },
  {
   "cell_type": "markdown",
   "id": "9870ddd3-775b-49ff-92b9-742055180c3d",
   "metadata": {},
   "source": [
    "## Úloha 4.\n",
    "Kolko znakov a, o a ostatných spoluhlások dokopy sa nachádza v s3 ?a."
   ]
  },
  {
   "cell_type": "code",
   "execution_count": 37,
   "id": "09edf4ea-deaa-4920-b289-2265ccdea256",
   "metadata": {},
   "outputs": [
    {
     "name": "stdout",
     "output_type": "stream",
     "text": [
      "9 13\n",
      "9 0 0 13 0 0\n",
      "22\n"
     ]
    }
   ],
   "source": [
    "print(s3.count('a'),s3.count('o'))\n",
    "print(s3.count('a'),s3.count('e'), s3.count('i'), s3.count('o'), s3.count('u'), s3.count('y'))\n",
    "import re\n",
    "print(sum(map(s3.count,['a','e', 'i', 'o', 'u', 'y'])))\n"
   ]
  },
  {
   "cell_type": "markdown",
   "id": "815dda6c-862a-4f3e-a428-a75e5d984316",
   "metadata": {},
   "source": [
    "## Úloha 5.\n",
    "Zmen každe začinajuce slovo s2 na velke pismeno1."
   ]
  },
  {
   "cell_type": "code",
   "execution_count": 13,
   "id": "00c0af1b-08b3-4f69-bd5b-58366364ac3d",
   "metadata": {},
   "outputs": [
    {
     "name": "stdout",
     "output_type": "stream",
     "text": [
      "Zleteli Orly Z Tatry, Tiahnu Na Podolia,\n",
      "Ponad Vysoké Hory, Ponad Rovné Polia,\n",
      "Preleteli Cez Dunaj, Cez Tú Šíru Vodu,\n",
      "Sadli Tam Za Pomedzím Slovenského Rodu.\n"
     ]
    }
   ],
   "source": [
    "print(s2.title())"
   ]
  },
  {
   "cell_type": "markdown",
   "id": "ea972b4b-068b-4e42-9266-e1a423f2d3c1",
   "metadata": {},
   "source": [
    "## Úloha 6.\n",
    "Zmen Silvia v s1 źa Livia."
   ]
  },
  {
   "cell_type": "code",
   "execution_count": 14,
   "id": "10df26ac-6657-4cb5-9048-dfd79cfc7e22",
   "metadata": {},
   "outputs": [
    {
     "name": "stdout",
     "output_type": "stream",
     "text": [
      "Ahoj Livia, toto je text\n"
     ]
    }
   ],
   "source": [
    "print(s1.replace('Silvia','Livia'))"
   ]
  },
  {
   "cell_type": "markdown",
   "id": "603acf29-3a24-46e5-86f9-8ca69a0e237e",
   "metadata": {},
   "source": [
    "## Úloha 7.\r\n",
    "Do novej premennej vlož 5.-18. znak zs3.3"
   ]
  },
  {
   "cell_type": "code",
   "execution_count": 2,
   "id": "a7c2acae-c670-4647-a9aa-56a9118a5e8d",
   "metadata": {},
   "outputs": [
    {
     "name": "stdout",
     "output_type": "stream",
     "text": [
      "ochdhoochahodh\n"
     ]
    }
   ],
   "source": [
    "new = s3[4:18:1]\n",
    "print(new)"
   ]
  },
  {
   "cell_type": "markdown",
   "id": "2bf77ae5-e934-4c81-9e3c-ebefe8c99a0e",
   "metadata": {},
   "source": [
    "## Úloha 8. \n",
    "Do novej premennej vlož každy treti znak z s3"
   ]
  },
  {
   "cell_type": "code",
   "execution_count": 3,
   "id": "974badeb-c3de-4114-8adf-ee7d3168bd8c",
   "metadata": {},
   "outputs": [
    {
     "name": "stdout",
     "output_type": "stream",
     "text": [
      "achohoaahcocahhhhhocd\n"
     ]
    }
   ],
   "source": [
    "new2 = s3[::3]\n",
    "print(new2)"
   ]
  },
  {
   "cell_type": "markdown",
   "id": "60b5edcf-bce9-42e7-b3f0-af345dd79f3e",
   "metadata": {},
   "source": [
    "## Úloha 9.\n",
    "Aká je dlžka s3? Vymen všetky znaky ’cc’ za ’C’. Aká je nová dlžka ?"
   ]
  },
  {
   "cell_type": "code",
   "execution_count": 6,
   "id": "6ac41d4e-eac3-4b0d-8dd0-f73e337ea18c",
   "metadata": {},
   "outputs": [
    {
     "name": "stdout",
     "output_type": "stream",
     "text": [
      "63\n",
      "58\n"
     ]
    }
   ],
   "source": [
    "print(len(s3))\n",
    "print(len(s3.replace('cc','C')))"
   ]
  },
  {
   "cell_type": "markdown",
   "id": "041bf0c8-7e9f-4053-82a0-3c8556a7894b",
   "metadata": {},
   "source": [
    "## Úloha 10.\n",
    "Spočitaj počet slov v s2."
   ]
  },
  {
   "cell_type": "code",
   "execution_count": 7,
   "id": "e8154bb4-00ff-45f2-a1aa-f38fccc61db8",
   "metadata": {},
   "outputs": [
    {
     "name": "stdout",
     "output_type": "stream",
     "text": [
      "26\n"
     ]
    }
   ],
   "source": [
    "print(len(s2.split()))"
   ]
  },
  {
   "cell_type": "markdown",
   "id": "69a7bba3-1386-4144-b952-13b13133c755",
   "metadata": {},
   "source": [
    "## Úloha 11.\n",
    "Napíš program ktorý výtvorý nový string z troch stredných znakov vstupného\n",
    "reťazca. Ostestuj na a s5."
   ]
  },
  {
   "cell_type": "code",
   "execution_count": 25,
   "id": "47a1cac7-c8ac-49ba-8046-fc3dc4f38691",
   "metadata": {},
   "outputs": [
    {
     "name": "stdout",
     "output_type": "stream",
     "text": [
      "7\n",
      "Son\n"
     ]
    }
   ],
   "source": [
    "print(len(s5))\n",
    "substring = s5[2:5:1]\n",
    "print(substring)"
   ]
  },
  {
   "cell_type": "markdown",
   "id": "466359ec-86dd-4075-9c37-2ed1aa73f637",
   "metadata": {},
   "source": [
    "## Úloha 12.\n",
    "Spoj s4 a s5 do jedneho stringu."
   ]
  },
  {
   "cell_type": "code",
   "execution_count": 12,
   "id": "1d9e24bf-2621-4548-8a80-f5b54f051206",
   "metadata": {},
   "outputs": [
    {
     "name": "stdout",
     "output_type": "stream",
     "text": [
      "JhonDipPetaJaSonAy\n"
     ]
    }
   ],
   "source": [
    "print(s4 + s5)"
   ]
  },
  {
   "cell_type": "markdown",
   "id": "c2d876ea-7c02-4513-8293-bdc1b41dd69e",
   "metadata": {},
   "source": [
    "## Úloha 13.\n",
    "Otestuj metody:\n",
    "• find()\n",
    "• isupper() - čo je vystupom ? aky objekt ?\n",
    "• itemisalnum()"
   ]
  },
  {
   "cell_type": "code",
   "execution_count": 29,
   "id": "a8292143-00ba-417f-a7af-c98d3af91e89",
   "metadata": {},
   "outputs": [
    {
     "name": "stdout",
     "output_type": "stream",
     "text": [
      "15\n",
      "False\n",
      "True\n",
      "True\n",
      "True\n",
      "True\n",
      "False\n"
     ]
    }
   ],
   "source": [
    "print(s2.find('Tatry')) #výstupom je integer vyjadrujúci prvú pozíciu daného slova v stringu\n",
    "print(s3.isupper()) \n",
    "print('BNERIUPEI'.isupper()) #vrati TRUE (type: boolean), ak sú všetky písmená veľké\n",
    "print('Sum41'.isalnum()) #ak obsahuje čísla a písmená vráti True\n",
    "print('Sum'.isalnum())\n",
    "print('41'.isalnum())\n",
    "print('###'.isalnum())"
   ]
  },
  {
   "cell_type": "markdown",
   "id": "1045d7a0-5bfc-4c87-93d6-b28e2ea20c35",
   "metadata": {},
   "source": [
    "## Úloha 14.\n",
    "Koľko krat sa v stringu s6 Nachadza spojenie bolo bez ohladu na velke\n",
    "male pismena?"
   ]
  },
  {
   "cell_type": "code",
   "execution_count": 17,
   "id": "02d711b8-38a9-43a9-8c40-0d37cb583c01",
   "metadata": {},
   "outputs": [
    {
     "name": "stdout",
     "output_type": "stream",
     "text": [
      "6\n"
     ]
    }
   ],
   "source": [
    "print(s6.upper().count('bolo'.upper()))"
   ]
  },
  {
   "cell_type": "markdown",
   "id": "0bf116fe-1387-40b9-9cdb-4fffdf926966",
   "metadata": {},
   "source": [
    "## Úloha 15.\n",
    "Napíš program, ktorý nájde poslednú pozíciu substringu ’lo’ v s6."
   ]
  },
  {
   "cell_type": "code",
   "execution_count": 18,
   "id": "a8da4298-0026-492b-bd3d-c63ab9b575de",
   "metadata": {},
   "outputs": [
    {
     "name": "stdout",
     "output_type": "stream",
     "text": [
      "53\n"
     ]
    }
   ],
   "source": [
    "print(s6.rindex('lo'))"
   ]
  }
 ],
 "metadata": {
  "kernelspec": {
   "display_name": "Python 3 (ipykernel)",
   "language": "python",
   "name": "python3"
  },
  "language_info": {
   "codemirror_mode": {
    "name": "ipython",
    "version": 3
   },
   "file_extension": ".py",
   "mimetype": "text/x-python",
   "name": "python",
   "nbconvert_exporter": "python",
   "pygments_lexer": "ipython3",
   "version": "3.11.7"
  }
 },
 "nbformat": 4,
 "nbformat_minor": 5
}
