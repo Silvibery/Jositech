{
 "cells": [
  {
   "cell_type": "markdown",
   "id": "daf9d394-7f1c-4c20-bfd2-93e0813a74a0",
   "metadata": {},
   "source": [
    "# Úlohy 8"
   ]
  },
  {
   "cell_type": "markdown",
   "id": "88ffa3d7-0bf2-42a4-b9ca-f10042d08b28",
   "metadata": {},
   "source": [
    "## Úloha 1\n",
    "Oprava úlohy s diamantom."
   ]
  },
  {
   "cell_type": "code",
   "execution_count": 8,
   "id": "118ea73d-bcef-4d69-bb2f-c3dac4dcab50",
   "metadata": {},
   "outputs": [
    {
     "name": "stdout",
     "output_type": "stream",
     "text": [
      "    *    \n",
      "   ***   \n",
      "  *****  \n",
      " ******* \n",
      "*********\n",
      " ******* \n",
      "  *****  \n",
      "   ***   \n",
      "    *    \n",
      "          \n",
      "            \n"
     ]
    }
   ],
   "source": [
    "x_vstup=5\n",
    "\n",
    "riadky = list(range(x_vstup))\n",
    "riadky2 = list(range(x_vstup+1))\n",
    "blanky_counter = x_vstup-1\n",
    "hviezdny_counter = 1\n",
    "\n",
    "for riadok in riadky:\n",
    "    print(' ' * blanky_counter + '*' * hviezdny_counter + ' ' * blanky_counter)\n",
    "    \n",
    "    if blanky_counter == 0: #treba opatrit, aby blanblanky_counter nebol na konci cyklu -1\n",
    "        break\n",
    "        \n",
    "    blanky_counter -= 1\n",
    "    hviezdny_counter += 2\n",
    "    \n",
    "####### debugging line #######\n",
    "#print(blanky_counter, hviezdny_counter)\n",
    "\n",
    "for riadok in riadky2:\n",
    "    print(' ' * (blanky_counter + 1) + '*' * (hviezdny_counter - 2) + ' ' * (blanky_counter + 1))\n",
    "    blanky_counter += 1\n",
    "    hviezdny_counter -= 2\n",
    "\n"
   ]
  },
  {
   "cell_type": "markdown",
   "id": "ece69f29-0433-4b60-be38-559b08985f03",
   "metadata": {},
   "source": [
    "## Úloha 2\n",
    "Prerob úlohu na for loop pri pocitani A, kym nenatrafim na 'TTTT' v sekvencii na while loop."
   ]
  },
  {
   "cell_type": "code",
   "execution_count": 3,
   "id": "796eb8e9-2b53-4825-a5a7-b5a6f99bd215",
   "metadata": {},
   "outputs": [
    {
     "name": "stdout",
     "output_type": "stream",
     "text": [
      "15\n"
     ]
    }
   ],
   "source": [
    "sekvencia = 'ACTTTGCGCGCGAAGCTAGCGATCGTCGAAGCTAGCGATCGTCGAAGCTAGCGATCGTCGAAGTTTTTTCTAGCGATCGTCGAAGCTAGCGATCGTCGAAGCTAGCGATCGTCGAAGCTAGCGATCGT'\n",
    "\n",
    "index = 0\n",
    "adeniny = 0\n",
    "\n",
    "\n",
    "while index < len(sekvencia) and sekvencia[index:index + 4] != 'TTTT': #treba osetrit aj to, aby index nepresiahol dlzku sekvencie\n",
    "    if sekvencia[index] == 'A':\n",
    "        adeniny += 1\n",
    "    index += 1\n",
    "\n",
    "print(adeniny)\n",
    "        \n",
    "    "
   ]
  },
  {
   "cell_type": "markdown",
   "id": "b4589091-26cc-42a6-ac10-008f1b593260",
   "metadata": {},
   "source": [
    "## Úloha 3\n",
    "3. Maš nasledujúci zoznam čísel v liste\r\n",
    "cisla=[1,2,3,4,5]\r\n",
    "každé číslo cheš vytlač do jedného riadku n krát - použi vnoreny f loopor"
   ]
  },
  {
   "cell_type": "code",
   "execution_count": 10,
   "id": "a59766ff-a609-4f43-846a-99a7557f121a",
   "metadata": {},
   "outputs": [
    {
     "name": "stdout",
     "output_type": "stream",
     "text": [
      "11111111111111111111111111111111111\n",
      "22222222222222222222222222222222222\n",
      "33333333333333333333333333333333333\n",
      "44444444444444444444444444444444444\n",
      "55555555555555555555555555555555555\n"
     ]
    }
   ],
   "source": [
    "cisla=[1,2,3,4,5] \n",
    "n = 35\n",
    "\n",
    "for x in cisla:\n",
    "    for y in range(n):\n",
    "        print(x, end = '')\n",
    "    print()\n",
    "        "
   ]
  },
  {
   "cell_type": "code",
   "execution_count": 8,
   "id": "6559dafc-3248-481e-adeb-3449df355c72",
   "metadata": {},
   "outputs": [
    {
     "name": "stdin",
     "output_type": "stream",
     "text": [
      "Enter the number of rows: 4\n",
      "Enter the number of columns: 3\n",
      "Enter the symbol to use: |\n"
     ]
    },
    {
     "name": "stdout",
     "output_type": "stream",
     "text": [
      "|||\n",
      "|||\n",
      "|||\n",
      "|||\n"
     ]
    }
   ],
   "source": [
    "##################### video - vnoreny for loop #############################\n",
    "\n",
    "rows = int(input('Enter the number of rows:'))\n",
    "columns = int(input('Enter the number of columns:'))\n",
    "symbol = input('Enter the symbol to use:')\n",
    "\n",
    "for x in range(rows):\n",
    "    for y in range(columns):\n",
    "        print(symbol, end = '')\n",
    "    print()"
   ]
  },
  {
   "cell_type": "markdown",
   "id": "4bc9f468-d9e7-40ea-b395-3b65e3f27c6e",
   "metadata": {},
   "source": [
    "## Úloha 4"
   ]
  },
  {
   "cell_type": "code",
   "execution_count": 2,
   "id": "5e0b4382-4aa3-4f43-a797-d9c27e28c4a1",
   "metadata": {},
   "outputs": [
    {
     "name": "stdin",
     "output_type": "stream",
     "text": [
      "Zadaj heslo: LUBimta\n"
     ]
    }
   ],
   "source": [
    "Heslo = \"lubimta\" #nadstavene heslo\n",
    "counter = 0 #potrebujem na pocitanie pokusov o zadanie hesla\n",
    "\n",
    "while True:\n",
    "    zadane_heslo = input(\"Zadaj heslo:\").lower() #lower prehodi zadane velke pismena na male, heslo je teda case insensitive\n",
    "    counter = counter + 1 #po kazdom zadani hesla zvys counter o jedna\n",
    "    if zadane_heslo == Heslo: #ak sa heslo zhoduje, break\n",
    "        break\n",
    "    if zadane_heslo != Heslo and counter > 7: #ak sa heslo nezhoduje bezi cyklus odzaciatku pokym pocet pokusov nepresiahne 7, potom print, break\n",
    "        print('7 krat si zadal zle heslo teraz ti vypnem elektriku')\n",
    "        break\n"
   ]
  },
  {
   "cell_type": "markdown",
   "id": "86145671-3ed2-4729-83e6-55c23b501d15",
   "metadata": {},
   "source": [
    "## Úloha 5"
   ]
  },
  {
   "cell_type": "markdown",
   "id": "74af44f8-7ec3-4dfb-b403-e4e0b2e40b48",
   "metadata": {},
   "source": [
    "Prejdi každý kodón v sekvencii mRNA pomocou vonkajšieho for cyklu a\r\n",
    "pre každý kodón skontroluj, či sa zhoduje s niektorým z kódov v genetickom\r\n",
    "kóde pomocou vnútorného for cyklu. Ak je podmienka splnená, pridáj\r\n",
    "zodpovedajúcu aminokyselinu do zoznamu nájdených aminokyselín. Nakoniec\r\n",
    "zobraz zoznam nájdené aminokyselíny.\r"
   ]
  },
  {
   "cell_type": "code",
   "execution_count": 14,
   "id": "07be1d5d-138d-4c73-abeb-71a701a896b7",
   "metadata": {},
   "outputs": [
    {
     "name": "stdout",
     "output_type": "stream",
     "text": [
      "['Met', 'Phe', 'Leu', 'Ser', 'Met', 'Ser', 'Ser', 'Leu', 'Ser', 'Tyr', 'Tyr']\n"
     ]
    }
   ],
   "source": [
    "Zoznam_aminokyselin = []\n",
    "\n",
    "\n",
    "# Zadefinujeme genetický kód jako slovník\n",
    "geneticky_kod = {\n",
    "'AUG': 'Met', # Start kódón\n",
    "'UUU': 'Phe', 'UUC': 'Phe', # Fenylalanin\n",
    "'UUA': 'Leu', 'UUG': 'Leu', 'CUU': 'Leu', # Leucin\n",
    "'CUC': 'Leu', 'CUA': 'Leu', 'CUG': 'Leu', # Leucin\n",
    "'UCU': 'Ser', 'UCC': 'Ser', 'UCA': 'Ser', # Serin\n",
    "'UCG': 'Ser', 'AGU': 'Ser', 'AGC': 'Ser', # Serin\n",
    "'UAU': 'Tyr', 'UAC': 'Tyr' # Tyrosin\n",
    "}\n",
    "# Zadefinujeme sekvenci mRNA\n",
    "mRNA_sekvencia = ['AUG', 'UUU', 'UUA', 'UCA',\n",
    "'AUG', 'UCU', 'AGU', 'UUA', 'UCG','UAC','UAU']\n",
    "\n",
    "\n",
    "\n",
    "######################## moja verzia s chybami ###############################\n",
    "\n",
    "# prehladavaj keys, a hladaj kodon, ak sa zhoduje tak uloz prisluchajucu value\n",
    "\n",
    "\n",
    "#for kodon in mRNA_sekvencia:\n",
    "#    for key in geneticky_kod:\n",
    "#        if kodon == key:\n",
    "#            Zoznam_aminokyselin.append(geneticky_kod.values())\n",
    "\n",
    "#print(Zoznam_aminokyselin)\n",
    "\n",
    "################################################################################\n",
    "\n",
    "# vyladovacka chatGPT\n",
    "\n",
    "for kodon in mRNA_sekvencia:\n",
    "    for key, value in geneticky_kod.items():  # Use .items() to get both key and value\n",
    "        if kodon == key:\n",
    "            Zoznam_aminokyselin.append(value)  # Append the value, not geneticky_kod.values()\n",
    "\n",
    "print(Zoznam_aminokyselin)\n"
   ]
  }
 ],
 "metadata": {
  "kernelspec": {
   "display_name": "Python 3 (ipykernel)",
   "language": "python",
   "name": "python3"
  },
  "language_info": {
   "codemirror_mode": {
    "name": "ipython",
    "version": 3
   },
   "file_extension": ".py",
   "mimetype": "text/x-python",
   "name": "python",
   "nbconvert_exporter": "python",
   "pygments_lexer": "ipython3",
   "version": "3.11.7"
  }
 },
 "nbformat": 4,
 "nbformat_minor": 5
}
