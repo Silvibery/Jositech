{
 "cells": [
  {
   "cell_type": "markdown",
   "id": "0cc7239a-f6f4-47a2-a322-0ff284365eaf",
   "metadata": {},
   "source": [
    "### Úloha 1"
   ]
  },
  {
   "cell_type": "code",
   "execution_count": 2,
   "id": "d5adb578-c161-4ead-991e-0ba98a0ea765",
   "metadata": {},
   "outputs": [],
   "source": [
    "def vlastny_range(start, stop, krok):\n",
    "    '''\n",
    "    Táto funkcia generuje list. V porovnaní s original rangom, \n",
    "    netreba pouzit for cyklus na prechádzanie prvkov objektu.\n",
    "    Vyžaduje argument krok narozdiel od original rangu.\n",
    "    \n",
    "    '''\n",
    "    if krok == 0:\n",
    "        raise ValueError(\"argument krok nesmie byť nula\") \n",
    "        \n",
    "        '''\n",
    "        The raise statement in Python is used to trigger exceptions. \n",
    "        It allows a programmer to explicitly cause an exception to occur \n",
    "        at any point in their code. This can be useful for error handling, \n",
    "        debugging, or to signal that some condition has occurred that\n",
    "        prevents further execution of the current block of code.\n",
    "        '''\n",
    "        \n",
    "    vysledok = []\n",
    "    if krok > 0:\n",
    "        while start < stop:\n",
    "            vysledok.append(start)\n",
    "            start += krok #zabezpečí posúvanie v cykle o definovaný krok\n",
    "    else:\n",
    "        #Tento blok kódu slúži na situáciu, keď je štart väčší ako stop a step je zároveň záporné číslo\n",
    "        while start > stop:\n",
    "            vysledok.append(start)\n",
    "            start += krok\n",
    "\n",
    "    return vysledok\n"
   ]
  },
  {
   "cell_type": "code",
   "execution_count": 15,
   "id": "85081fc1-ce75-4049-852f-8da5100fa7af",
   "metadata": {},
   "outputs": [
    {
     "name": "stdout",
     "output_type": "stream",
     "text": [
      "[65, 63, 61, 59, 57, 55, 53, 51, 49, 47]\n",
      "65\n",
      "62\n",
      "59\n",
      "56\n",
      "53\n",
      "50\n",
      "47\n"
     ]
    }
   ],
   "source": [
    "skuska = vlastny_range(65, 45, -2)\n",
    "print(skuska)\n",
    "\n",
    "original = range(65, 45, -3)\n",
    "for x in original:\n",
    "    print(x)"
   ]
  },
  {
   "cell_type": "markdown",
   "id": "8b4de8d7-e95f-4aaa-a4fe-154af8b90f0e",
   "metadata": {},
   "source": [
    "### Úloha 2"
   ]
  },
  {
   "cell_type": "code",
   "execution_count": 25,
   "id": "1d9710e1-8354-41e7-b53b-f4c672cd9298",
   "metadata": {},
   "outputs": [],
   "source": [
    "def Fibonacci(n): #vstup priamo do riadku def, netreba ako int(input())\n",
    "\n",
    "    x = 0\n",
    "    y= 0 # oprava\n",
    "    \n",
    "    \n",
    "    list_x = []\n",
    "    list_y = []\n",
    "    \n",
    "    while n > 0:\n",
    "        z = x + y  # z vysledne fib. čislo\n",
    "        \n",
    "        print(z) # vytlač čislo\n",
    "        list_x.append(n) # do gravu data X os počitany krok\n",
    "        list_y.append(z) # do gravu data Y os vysledok\n",
    "        n -= 1\n",
    "        \n",
    "        if z == 0: # ak z nula tak y natvrdo 1 a ak x=z teda 0\n",
    "            y=1\n",
    "            x=z\n",
    "        else:  # v opačnom pripade y=x teda n-2 stary vysledok a x=z teda n-1 vysledok\n",
    "            y=x\n",
    "            x=z"
   ]
  },
  {
   "cell_type": "code",
   "execution_count": 26,
   "id": "7ad3250f-34c6-4c17-b0a5-94af5a187782",
   "metadata": {},
   "outputs": [
    {
     "name": "stdout",
     "output_type": "stream",
     "text": [
      "0\n",
      "1\n",
      "1\n",
      "2\n",
      "3\n",
      "5\n",
      "8\n"
     ]
    }
   ],
   "source": [
    "Fibonacci(7)"
   ]
  },
  {
   "cell_type": "markdown",
   "id": "264714ad-692d-497f-be7d-3a4bc4fd2148",
   "metadata": {},
   "source": [
    "### Úloha 3"
   ]
  },
  {
   "cell_type": "markdown",
   "id": "1e2494d6-70ff-4ced-9bef-d53b17e17732",
   "metadata": {},
   "source": [
    "Napiš funckiu ktora bude mat ako vstup dva čiselne listy. Funkcia vykona\n",
    "nasobenie prvkov po elemente takzvany element wise multiplication (\n",
    "nasobene prvku s prvokm podla indexu1\n",
    "). vystupom je novy list. Ošetri\n",
    "funkciu. Nasob len listy ktore su čiselne a ktore su rovnaku dlhe. AK\n",
    "niesu rovnako dlhe dlhši skrat na dlžku toho kratšieho.\n"
   ]
  },
  {
   "cell_type": "code",
   "execution_count": 9,
   "id": "018b1922-dbd5-4a73-a9a9-c779f32493b7",
   "metadata": {},
   "outputs": [
    {
     "data": {
      "text/plain": [
       "[24, 65]"
      ]
     },
     "execution_count": 9,
     "metadata": {},
     "output_type": "execute_result"
    }
   ],
   "source": [
    "def wise_multiplication(num_1, num_2):\n",
    "   \n",
    "    \n",
    "    '''\n",
    "    vstupy:\n",
    "    num_1 = list floatov\n",
    "    num_2 = list floatov\n",
    "\n",
    "    výstup:\n",
    "    multiplied = list floatov, ktorý vznikne násobením jednotlivých prvkov \n",
    "    listov num_1 a num_2 podľa prislúchajúcich indexov.\n",
    "\n",
    "    V prípade, že listy nie sú rovnako dlhé, dlhší list sa skráti na dĺžku kratšieho.\n",
    "    '''\n",
    "\n",
    "    multiplied = []\n",
    "    n = 0\n",
    "    m = 0\n",
    "\n",
    "    \n",
    "    if len(num_1) <= len(num_2):\n",
    "        while num_1[n] != None:\n",
    "            vysledok = num_1[n]*num_2[m]\n",
    "            multiplied.append(vysledok)\n",
    "            n += 1\n",
    "            m += 1\n",
    "            if n > len(num_1) - 1:\n",
    "                break\n",
    "    else:\n",
    "        while num_2[m] != None:\n",
    "            vysledok = num_1[n]*num_2[m]\n",
    "            multiplied.append(vysledok)\n",
    "            n += 1\n",
    "            m += 1\n",
    "            if m > len(num_2) - 1:\n",
    "                break\n",
    "                \n",
    "\n",
    "    return multiplied\n",
    "\n",
    "\n",
    "wise_multiplication([4, 13], [6, 5, 4, 3, 7])\n",
    "            \n",
    "\n",
    "        \n",
    "\n",
    "\n",
    "\n",
    "    "
   ]
  }
 ],
 "metadata": {
  "kernelspec": {
   "display_name": "Python 3 (ipykernel)",
   "language": "python",
   "name": "python3"
  },
  "language_info": {
   "codemirror_mode": {
    "name": "ipython",
    "version": 3
   },
   "file_extension": ".py",
   "mimetype": "text/x-python",
   "name": "python",
   "nbconvert_exporter": "python",
   "pygments_lexer": "ipython3",
   "version": "3.11.7"
  }
 },
 "nbformat": 4,
 "nbformat_minor": 5
}
